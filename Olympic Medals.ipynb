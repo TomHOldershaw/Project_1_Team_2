{
 "cells": [
  {
   "cell_type": "code",
   "execution_count": 2,
   "id": "330994c6",
   "metadata": {},
   "outputs": [],
   "source": [
    "# Dependencies\n",
    "import pandas as pd"
   ]
  },
  {
   "cell_type": "code",
   "execution_count": 3,
   "id": "36334626",
   "metadata": {},
   "outputs": [
    {
     "name": "stdout",
     "output_type": "stream",
     "text": [
      "   Year    City     Sport Discipline                Athlete Country Gender  \\\n",
      "0  1896  Athens  Aquatics   Swimming          HAJOS, Alfred     HUN    Men   \n",
      "1  1896  Athens  Aquatics   Swimming       HERSCHMANN, Otto     AUT    Men   \n",
      "2  1896  Athens  Aquatics   Swimming      DRIVAS, Dimitrios     GRE    Men   \n",
      "3  1896  Athens  Aquatics   Swimming     MALOKINIS, Ioannis     GRE    Men   \n",
      "4  1896  Athens  Aquatics   Swimming     CHASAPIS, Spiridon     GRE    Men   \n",
      "5  1896  Athens  Aquatics   Swimming  CHOROPHAS, Efstathios     GRE    Men   \n",
      "6  1896  Athens  Aquatics   Swimming          HAJOS, Alfred     HUN    Men   \n",
      "7  1896  Athens  Aquatics   Swimming       ANDREOU, Joannis     GRE    Men   \n",
      "8  1896  Athens  Aquatics   Swimming  CHOROPHAS, Efstathios     GRE    Men   \n",
      "9  1896  Athens  Aquatics   Swimming          NEUMANN, Paul     AUT    Men   \n",
      "\n",
      "                        Event   Medal  \n",
      "0              100M Freestyle    Gold  \n",
      "1              100M Freestyle  Silver  \n",
      "2  100M Freestyle For Sailors  Bronze  \n",
      "3  100M Freestyle For Sailors    Gold  \n",
      "4  100M Freestyle For Sailors  Silver  \n",
      "5             1200M Freestyle  Bronze  \n",
      "6             1200M Freestyle    Gold  \n",
      "7             1200M Freestyle  Silver  \n",
      "8              400M Freestyle  Bronze  \n",
      "9              400M Freestyle    Gold  \n",
      "   Year      City     Sport Discipline               Athlete Country Gender  \\\n",
      "0  1924  Chamonix  Biathlon   Biathlon           BERTHET, G.     FRA    Men   \n",
      "1  1924  Chamonix  Biathlon   Biathlon        MANDRILLON, C.     FRA    Men   \n",
      "2  1924  Chamonix  Biathlon   Biathlon   MANDRILLON, Maurice     FRA    Men   \n",
      "3  1924  Chamonix  Biathlon   Biathlon       VANDELLE, André     FRA    Men   \n",
      "4  1924  Chamonix  Biathlon   Biathlon  AUFDENBLATTEN, Adolf     SUI    Men   \n",
      "5  1924  Chamonix  Biathlon   Biathlon       JULEN, Alphonse     SUI    Men   \n",
      "6  1924  Chamonix  Biathlon   Biathlon           JULEN, Ant.     SUI    Men   \n",
      "7  1924  Chamonix  Biathlon   Biathlon           VAUCHER, D.     SUI    Men   \n",
      "8  1924  Chamonix  Biathlon   Biathlon          BREMER, V.E.     FIN    Men   \n",
      "9  1924  Chamonix  Biathlon   Biathlon         ESKELINEN, A.     FIN    Men   \n",
      "\n",
      "             Event   Medal  \n",
      "0  Military Patrol  Bronze  \n",
      "1  Military Patrol  Bronze  \n",
      "2  Military Patrol  Bronze  \n",
      "3  Military Patrol  Bronze  \n",
      "4  Military Patrol    Gold  \n",
      "5  Military Patrol    Gold  \n",
      "6  Military Patrol    Gold  \n",
      "7  Military Patrol    Gold  \n",
      "8  Military Patrol  Silver  \n",
      "9  Military Patrol  Silver  \n"
     ]
    }
   ],
   "source": [
    "# Import datasets\n",
    "\n",
    "summer_raw = pd.read_csv(\"Resources/summer.csv\")\n",
    "winter_raw = pd.read_csv(\"Resources/winter.csv\")\n",
    "\n",
    "print(summer_raw.head(10))\n",
    "print(winter_raw.head(10))"
   ]
  }
 ],
 "metadata": {
  "kernelspec": {
   "display_name": "Python 3",
   "language": "python",
   "name": "python3"
  },
  "language_info": {
   "codemirror_mode": {
    "name": "ipython",
    "version": 3
   },
   "file_extension": ".py",
   "mimetype": "text/x-python",
   "name": "python",
   "nbconvert_exporter": "python",
   "pygments_lexer": "ipython3",
   "version": "3.8.8"
  }
 },
 "nbformat": 4,
 "nbformat_minor": 5
}
