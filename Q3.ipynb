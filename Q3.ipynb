{
 "cells": [
  {
   "cell_type": "code",
   "execution_count": 16,
   "id": "afe70bc5",
   "metadata": {},
   "outputs": [],
   "source": [
    "import pandas as pd\n",
    "import numpy as np\n",
    "import scipy.stats as stats\n",
    "import matplotlib.pyplot as plt"
   ]
  },
  {
   "cell_type": "code",
   "execution_count": 3,
   "id": "ebe8ca19",
   "metadata": {},
   "outputs": [],
   "source": [
    "summer = pd.read_csv(\"Resources/summer.csv\")\n",
    "years = summer['Year'].unique()\n",
    "countrycodes = pd.read_csv(\"resources/ioc_codes.csv\")\n",
    "hostcities = pd.read_csv(\"Resources/olympic_hosts.csv\")\n",
    "hosts_summer = hostcities.loc[hostcities[\"Type\"] == \"summergames\"]"
   ]
  },
  {
   "cell_type": "code",
   "execution_count": 4,
   "id": "0d904671",
   "metadata": {},
   "outputs": [
    {
     "data": {
      "text/plain": [
       "array([1896, 1900, 1904, 1908, 1912, 1920, 1924, 1928, 1932, 1936, 1948,\n",
       "       1952, 1956, 1960, 1964, 1968, 1972, 1976, 1980, 1984, 1988, 1992,\n",
       "       1996, 2000, 2004, 2008, 2012], dtype=int64)"
      ]
     },
     "execution_count": 4,
     "metadata": {},
     "output_type": "execute_result"
    }
   ],
   "source": [
    "years"
   ]
  },
  {
   "cell_type": "code",
   "execution_count": 5,
   "id": "89c4f438",
   "metadata": {},
   "outputs": [
    {
     "data": {
      "text/plain": [
       "array(['Greece', 'France', 'United States of America', 'Great Britain',\n",
       "       'Sweden', 'Belgium', 'Netherlands', 'Germany', 'Finland',\n",
       "       'Australia, Sweden', 'Italy', 'Japan', 'Mexico', 'W Germany',\n",
       "       'Canada', 'USSR', 'Republic of Korea', 'Spain', 'Australia',\n",
       "       \"People's Republic of China\", 'Brazil'], dtype=object)"
      ]
     },
     "execution_count": 5,
     "metadata": {},
     "output_type": "execute_result"
    }
   ],
   "source": [
    "hosts_summer['Country'].unique()"
   ]
  },
  {
   "cell_type": "markdown",
   "id": "e6206c76",
   "metadata": {},
   "source": [
    "# Question 1\n"
   ]
  },
  {
   "cell_type": "markdown",
   "id": "51109209",
   "metadata": {},
   "source": [
    "# Question 2"
   ]
  },
  {
   "cell_type": "markdown",
   "id": "6b50bbb6",
   "metadata": {},
   "source": [
    "# Question 3"
   ]
  },
  {
   "cell_type": "code",
   "execution_count": 6,
   "id": "d8176706",
   "metadata": {},
   "outputs": [
    {
     "data": {
      "text/html": [
       "<div>\n",
       "<style scoped>\n",
       "    .dataframe tbody tr th:only-of-type {\n",
       "        vertical-align: middle;\n",
       "    }\n",
       "\n",
       "    .dataframe tbody tr th {\n",
       "        vertical-align: top;\n",
       "    }\n",
       "\n",
       "    .dataframe thead th {\n",
       "        text-align: right;\n",
       "    }\n",
       "</style>\n",
       "<table border=\"1\" class=\"dataframe\">\n",
       "  <thead>\n",
       "    <tr style=\"text-align: right;\">\n",
       "      <th></th>\n",
       "      <th>Host Year</th>\n",
       "      <th>Country</th>\n",
       "      <th>Year</th>\n",
       "    </tr>\n",
       "  </thead>\n",
       "  <tbody>\n",
       "    <tr>\n",
       "      <th>0</th>\n",
       "      <td>1896</td>\n",
       "      <td>GRE</td>\n",
       "      <td>0</td>\n",
       "    </tr>\n",
       "    <tr>\n",
       "      <th>1</th>\n",
       "      <td>1896</td>\n",
       "      <td>GRE</td>\n",
       "      <td>0</td>\n",
       "    </tr>\n",
       "    <tr>\n",
       "      <th>2</th>\n",
       "      <td>1896</td>\n",
       "      <td>GRE</td>\n",
       "      <td>0</td>\n",
       "    </tr>\n",
       "    <tr>\n",
       "      <th>3</th>\n",
       "      <td>1896</td>\n",
       "      <td>GRE</td>\n",
       "      <td>1896</td>\n",
       "    </tr>\n",
       "    <tr>\n",
       "      <th>4</th>\n",
       "      <td>1896</td>\n",
       "      <td>GRE</td>\n",
       "      <td>1900</td>\n",
       "    </tr>\n",
       "    <tr>\n",
       "      <th>...</th>\n",
       "      <td>...</td>\n",
       "      <td>...</td>\n",
       "      <td>...</td>\n",
       "    </tr>\n",
       "    <tr>\n",
       "      <th>184</th>\n",
       "      <td>2012</td>\n",
       "      <td>GBR</td>\n",
       "      <td>2008</td>\n",
       "    </tr>\n",
       "    <tr>\n",
       "      <th>185</th>\n",
       "      <td>2012</td>\n",
       "      <td>GBR</td>\n",
       "      <td>2012</td>\n",
       "    </tr>\n",
       "    <tr>\n",
       "      <th>186</th>\n",
       "      <td>2012</td>\n",
       "      <td>GBR</td>\n",
       "      <td>0</td>\n",
       "    </tr>\n",
       "    <tr>\n",
       "      <th>187</th>\n",
       "      <td>2012</td>\n",
       "      <td>GBR</td>\n",
       "      <td>0</td>\n",
       "    </tr>\n",
       "    <tr>\n",
       "      <th>188</th>\n",
       "      <td>2012</td>\n",
       "      <td>GBR</td>\n",
       "      <td>0</td>\n",
       "    </tr>\n",
       "  </tbody>\n",
       "</table>\n",
       "<p>189 rows × 3 columns</p>\n",
       "</div>"
      ],
      "text/plain": [
       "     Host Year Country  Year\n",
       "0         1896     GRE     0\n",
       "1         1896     GRE     0\n",
       "2         1896     GRE     0\n",
       "3         1896     GRE  1896\n",
       "4         1896     GRE  1900\n",
       "..         ...     ...   ...\n",
       "184       2012     GBR  2008\n",
       "185       2012     GBR  2012\n",
       "186       2012     GBR     0\n",
       "187       2012     GBR     0\n",
       "188       2012     GBR     0\n",
       "\n",
       "[189 rows x 3 columns]"
      ]
     },
     "execution_count": 6,
     "metadata": {},
     "output_type": "execute_result"
    }
   ],
   "source": [
    "hosts = []\n",
    "hosts_years = []\n",
    "hosts_countries = []\n",
    "hosts_sample = []\n",
    "minpos = 0\n",
    "maxpos = len(years)\n",
    "\n",
    "for pos in range (minpos, maxpos):\n",
    "    year = years[pos]\n",
    "    host = hosts_summer[\"Country\"].loc[hosts_summer[\"Year\"] == year].values[0]\n",
    "    if year == 1956:\n",
    "        host = \"Australia\"\n",
    "    try:\n",
    "        code = countrycodes[\"IOC\"].loc[countrycodes[\"Country\"] == host].values[0]\n",
    "    except IndexError:\n",
    "        code = \"\"\n",
    "    prev1 = pos-1\n",
    "    prev2 = pos-2\n",
    "    prev3 = pos-3\n",
    "    next1 = pos+1\n",
    "    next2 = pos+2\n",
    "    next3 = pos+3\n",
    "    if prev1 >= minpos:\n",
    "        prev1year = years[prev1]\n",
    "    else:\n",
    "        prev1year = 0\n",
    "    if prev2 >= minpos:\n",
    "        prev2year = years[prev2]\n",
    "    else:\n",
    "        prev2year = 0\n",
    "    if prev3 >= minpos:\n",
    "        prev3year = years[prev3]\n",
    "    else:\n",
    "        prev3year = 0\n",
    "    if next1 < maxpos:\n",
    "        next1year = years[next1]\n",
    "    else:\n",
    "        next1year = 0\n",
    "    if next2 < maxpos:\n",
    "        next2year = years[next2]\n",
    "    else:\n",
    "        next2year = 0\n",
    "    if next3 < maxpos:\n",
    "        next3year = years[next3]\n",
    "    else:\n",
    "        next3year = 0\n",
    "    hosts_years.append(year)\n",
    "    hosts_countries.append(code)\n",
    "    hosts_sample.append(prev3year)\n",
    "    hosts_years.append(year)\n",
    "    hosts_countries.append(code)\n",
    "    hosts_sample.append(prev2year)\n",
    "    hosts_years.append(year)\n",
    "    hosts_countries.append(code)\n",
    "    hosts_sample.append(prev1year)\n",
    "    hosts_years.append(year)\n",
    "    hosts_countries.append(code)\n",
    "    hosts_sample.append(year)\n",
    "    hosts_years.append(year)\n",
    "    hosts_countries.append(code)\n",
    "    hosts_sample.append(next1year)\n",
    "    hosts_years.append(year)\n",
    "    hosts_countries.append(code)\n",
    "    hosts_sample.append(next2year)\n",
    "    hosts_years.append(year)\n",
    "    hosts_countries.append(code)\n",
    "    hosts_sample.append(next3year)\n",
    "\n",
    "hosts = pd.DataFrame({\"Host Year\": hosts_years, \"Country\": hosts_countries, \"Year\": hosts_sample})\n",
    "hosts"
   ]
  },
  {
   "cell_type": "code",
   "execution_count": 7,
   "id": "21395c74",
   "metadata": {},
   "outputs": [
    {
     "data": {
      "text/html": [
       "<div>\n",
       "<style scoped>\n",
       "    .dataframe tbody tr th:only-of-type {\n",
       "        vertical-align: middle;\n",
       "    }\n",
       "\n",
       "    .dataframe tbody tr th {\n",
       "        vertical-align: top;\n",
       "    }\n",
       "\n",
       "    .dataframe thead th {\n",
       "        text-align: right;\n",
       "    }\n",
       "</style>\n",
       "<table border=\"1\" class=\"dataframe\">\n",
       "  <thead>\n",
       "    <tr style=\"text-align: right;\">\n",
       "      <th></th>\n",
       "      <th>Host Year</th>\n",
       "      <th>Country</th>\n",
       "      <th>Year</th>\n",
       "      <th>Medal</th>\n",
       "    </tr>\n",
       "  </thead>\n",
       "  <tbody>\n",
       "    <tr>\n",
       "      <th>3</th>\n",
       "      <td>1896</td>\n",
       "      <td>GRE</td>\n",
       "      <td>1896</td>\n",
       "      <td>52.0</td>\n",
       "    </tr>\n",
       "    <tr>\n",
       "      <th>5</th>\n",
       "      <td>1896</td>\n",
       "      <td>GRE</td>\n",
       "      <td>1904</td>\n",
       "      <td>2.0</td>\n",
       "    </tr>\n",
       "    <tr>\n",
       "      <th>6</th>\n",
       "      <td>1896</td>\n",
       "      <td>GRE</td>\n",
       "      <td>1908</td>\n",
       "      <td>3.0</td>\n",
       "    </tr>\n",
       "    <tr>\n",
       "      <th>9</th>\n",
       "      <td>1900</td>\n",
       "      <td>FRA</td>\n",
       "      <td>1896</td>\n",
       "      <td>11.0</td>\n",
       "    </tr>\n",
       "    <tr>\n",
       "      <th>10</th>\n",
       "      <td>1900</td>\n",
       "      <td>FRA</td>\n",
       "      <td>1900</td>\n",
       "      <td>185.0</td>\n",
       "    </tr>\n",
       "    <tr>\n",
       "      <th>...</th>\n",
       "      <td>...</td>\n",
       "      <td>...</td>\n",
       "      <td>...</td>\n",
       "      <td>...</td>\n",
       "    </tr>\n",
       "    <tr>\n",
       "      <th>179</th>\n",
       "      <td>2008</td>\n",
       "      <td>CHN</td>\n",
       "      <td>2012</td>\n",
       "      <td>128.0</td>\n",
       "    </tr>\n",
       "    <tr>\n",
       "      <th>182</th>\n",
       "      <td>2012</td>\n",
       "      <td>GBR</td>\n",
       "      <td>2000</td>\n",
       "      <td>55.0</td>\n",
       "    </tr>\n",
       "    <tr>\n",
       "      <th>183</th>\n",
       "      <td>2012</td>\n",
       "      <td>GBR</td>\n",
       "      <td>2004</td>\n",
       "      <td>57.0</td>\n",
       "    </tr>\n",
       "    <tr>\n",
       "      <th>184</th>\n",
       "      <td>2012</td>\n",
       "      <td>GBR</td>\n",
       "      <td>2008</td>\n",
       "      <td>77.0</td>\n",
       "    </tr>\n",
       "    <tr>\n",
       "      <th>185</th>\n",
       "      <td>2012</td>\n",
       "      <td>GBR</td>\n",
       "      <td>2012</td>\n",
       "      <td>126.0</td>\n",
       "    </tr>\n",
       "  </tbody>\n",
       "</table>\n",
       "<p>160 rows × 4 columns</p>\n",
       "</div>"
      ],
      "text/plain": [
       "     Host Year Country  Year  Medal\n",
       "3         1896     GRE  1896   52.0\n",
       "5         1896     GRE  1904    2.0\n",
       "6         1896     GRE  1908    3.0\n",
       "9         1900     FRA  1896   11.0\n",
       "10        1900     FRA  1900  185.0\n",
       "..         ...     ...   ...    ...\n",
       "179       2008     CHN  2012  128.0\n",
       "182       2012     GBR  2000   55.0\n",
       "183       2012     GBR  2004   57.0\n",
       "184       2012     GBR  2008   77.0\n",
       "185       2012     GBR  2012  126.0\n",
       "\n",
       "[160 rows x 4 columns]"
      ]
     },
     "execution_count": 7,
     "metadata": {},
     "output_type": "execute_result"
    }
   ],
   "source": [
    "summary_summer = summer.groupby([\"Year\", \"Country\"])[\"Medal\"].size().reset_index()\n",
    "\n",
    "host_medals = pd.merge(hosts, summary_summer, on=[\"Year\", \"Country\"], how=\"left\")\n",
    "host_medals = host_medals.dropna()\n",
    "host_medals"
   ]
  },
  {
   "cell_type": "markdown",
   "id": "46c6e02b",
   "metadata": {},
   "source": [
    "## Plots"
   ]
  },
  {
   "cell_type": "code",
   "execution_count": 28,
   "id": "a4ba8d5a",
   "metadata": {},
   "outputs": [
    {
     "data": {
      "text/plain": [
       "<function matplotlib.pyplot.show(close=None, block=None)>"
      ]
     },
     "execution_count": 28,
     "metadata": {},
     "output_type": "execute_result"
    },
    {
     "data": {
      "image/png": "[encoded data removed]",
      "text/plain": [
       "<Figure size 432x288 with 27 Axes>"
      ]
     },
     "metadata": {
      "needs_background": "light"
     },
     "output_type": "display_data"
    }
   ],
   "source": [
    "fig, ax = plt.subplots(9,3)\n",
    "\n",
    "for plot in range (len(years)):\n",
    "    row = int(plot/3)\n",
    "    col = plot % 3\n",
    "    plotdf = host_medals.loc[host_medals[\"Host Year\"] == years[plot]]\n",
    "    plotyears = plotdf[\"Year\"].to_list()\n",
    "    plotdata = plotdf[\"Medal\"].to_list()\n",
    "    ax[row, col].plot(plotyears, plotdata)\n",
    "    \n",
    "plt.show\n"
   ]
  },
  {
   "cell_type": "markdown",
   "id": "5cecc82d",
   "metadata": {},
   "source": [
    "## Statistical analysis"
   ]
  },
  {
   "cell_type": "code",
   "execution_count": 8,
   "id": "1c3661e7",
   "metadata": {},
   "outputs": [
    {
     "data": {
      "text/html": [
       "<div>\n",
       "<style scoped>\n",
       "    .dataframe tbody tr th:only-of-type {\n",
       "        vertical-align: middle;\n",
       "    }\n",
       "\n",
       "    .dataframe tbody tr th {\n",
       "        vertical-align: top;\n",
       "    }\n",
       "\n",
       "    .dataframe thead th {\n",
       "        text-align: right;\n",
       "    }\n",
       "</style>\n",
       "<table border=\"1\" class=\"dataframe\">\n",
       "  <thead>\n",
       "    <tr style=\"text-align: right;\">\n",
       "      <th></th>\n",
       "      <th>index</th>\n",
       "      <th>Host Year</th>\n",
       "      <th>Country</th>\n",
       "      <th>Year</th>\n",
       "      <th>Medal</th>\n",
       "    </tr>\n",
       "  </thead>\n",
       "  <tbody>\n",
       "    <tr>\n",
       "      <th>0</th>\n",
       "      <td>3</td>\n",
       "      <td>1896</td>\n",
       "      <td>GRE</td>\n",
       "      <td>1896</td>\n",
       "      <td>52.0</td>\n",
       "    </tr>\n",
       "    <tr>\n",
       "      <th>1</th>\n",
       "      <td>5</td>\n",
       "      <td>1896</td>\n",
       "      <td>GRE</td>\n",
       "      <td>1904</td>\n",
       "      <td>2.0</td>\n",
       "    </tr>\n",
       "    <tr>\n",
       "      <th>2</th>\n",
       "      <td>6</td>\n",
       "      <td>1896</td>\n",
       "      <td>GRE</td>\n",
       "      <td>1908</td>\n",
       "      <td>3.0</td>\n",
       "    </tr>\n",
       "    <tr>\n",
       "      <th>3</th>\n",
       "      <td>168</td>\n",
       "      <td>2004</td>\n",
       "      <td>GRE</td>\n",
       "      <td>1992</td>\n",
       "      <td>2.0</td>\n",
       "    </tr>\n",
       "    <tr>\n",
       "      <th>4</th>\n",
       "      <td>169</td>\n",
       "      <td>2004</td>\n",
       "      <td>GRE</td>\n",
       "      <td>1996</td>\n",
       "      <td>8.0</td>\n",
       "    </tr>\n",
       "    <tr>\n",
       "      <th>5</th>\n",
       "      <td>170</td>\n",
       "      <td>2004</td>\n",
       "      <td>GRE</td>\n",
       "      <td>2000</td>\n",
       "      <td>18.0</td>\n",
       "    </tr>\n",
       "    <tr>\n",
       "      <th>6</th>\n",
       "      <td>171</td>\n",
       "      <td>2004</td>\n",
       "      <td>GRE</td>\n",
       "      <td>2004</td>\n",
       "      <td>31.0</td>\n",
       "    </tr>\n",
       "    <tr>\n",
       "      <th>7</th>\n",
       "      <td>172</td>\n",
       "      <td>2004</td>\n",
       "      <td>GRE</td>\n",
       "      <td>2008</td>\n",
       "      <td>7.0</td>\n",
       "    </tr>\n",
       "    <tr>\n",
       "      <th>8</th>\n",
       "      <td>173</td>\n",
       "      <td>2004</td>\n",
       "      <td>GRE</td>\n",
       "      <td>2012</td>\n",
       "      <td>3.0</td>\n",
       "    </tr>\n",
       "  </tbody>\n",
       "</table>\n",
       "</div>"
      ],
      "text/plain": [
       "   index  Host Year Country  Year  Medal\n",
       "0      3       1896     GRE  1896   52.0\n",
       "1      5       1896     GRE  1904    2.0\n",
       "2      6       1896     GRE  1908    3.0\n",
       "3    168       2004     GRE  1992    2.0\n",
       "4    169       2004     GRE  1996    8.0\n",
       "5    170       2004     GRE  2000   18.0\n",
       "6    171       2004     GRE  2004   31.0\n",
       "7    172       2004     GRE  2008    7.0\n",
       "8    173       2004     GRE  2012    3.0"
      ]
     },
     "execution_count": 8,
     "metadata": {},
     "output_type": "execute_result"
    }
   ],
   "source": [
    "host_medals.loc[(host_medals[\"Country\"]==\"GRE\")].reset_index().tail(30)"
   ]
  },
  {
   "cell_type": "code",
   "execution_count": 9,
   "id": "c4db0bea",
   "metadata": {},
   "outputs": [
    {
     "data": {
      "text/html": [
       "<div>\n",
       "<style scoped>\n",
       "    .dataframe tbody tr th:only-of-type {\n",
       "        vertical-align: middle;\n",
       "    }\n",
       "\n",
       "    .dataframe tbody tr th {\n",
       "        vertical-align: top;\n",
       "    }\n",
       "\n",
       "    .dataframe thead th {\n",
       "        text-align: right;\n",
       "    }\n",
       "</style>\n",
       "<table border=\"1\" class=\"dataframe\">\n",
       "  <thead>\n",
       "    <tr style=\"text-align: right;\">\n",
       "      <th></th>\n",
       "      <th>observed</th>\n",
       "      <th>expected</th>\n",
       "    </tr>\n",
       "  </thead>\n",
       "  <tbody>\n",
       "    <tr>\n",
       "      <th>1896</th>\n",
       "      <td>52</td>\n",
       "      <td>14.25</td>\n",
       "    </tr>\n",
       "    <tr>\n",
       "      <th>1900</th>\n",
       "      <td>0</td>\n",
       "      <td>14.25</td>\n",
       "    </tr>\n",
       "    <tr>\n",
       "      <th>1904</th>\n",
       "      <td>2</td>\n",
       "      <td>14.25</td>\n",
       "    </tr>\n",
       "    <tr>\n",
       "      <th>1908</th>\n",
       "      <td>3</td>\n",
       "      <td>14.25</td>\n",
       "    </tr>\n",
       "  </tbody>\n",
       "</table>\n",
       "</div>"
      ],
      "text/plain": [
       "      observed  expected\n",
       "1896        52     14.25\n",
       "1900         0     14.25\n",
       "1904         2     14.25\n",
       "1908         3     14.25"
      ]
     },
     "execution_count": 9,
     "metadata": {},
     "output_type": "execute_result"
    }
   ],
   "source": [
    "#Null Hypothis is being Host doesn't make a difference\n",
    "Greece1896_df = pd.DataFrame({\n",
    "    \"observed\": [52, 0, 2, 3],\n",
    "    \"expected\": [14.25,14.25,14.25,14.25]\n",
    "}, index=[\"1896\", \"1900\", \"1904\", \"1908\"])\n",
    "Greece1896_df"
   ]
  },
  {
   "cell_type": "code",
   "execution_count": 10,
   "id": "42f0179e",
   "metadata": {},
   "outputs": [
    {
     "data": {
      "text/plain": [
       "Power_divergenceResult(statistic=133.66666666666666, pvalue=8.766316245006251e-29)"
      ]
     },
     "execution_count": 10,
     "metadata": {},
     "output_type": "execute_result"
    }
   ],
   "source": [
    "stats.chisquare(Greece1896_df['observed'], Greece1896_df['expected'])"
   ]
  },
  {
   "cell_type": "code",
   "execution_count": 11,
   "id": "7eb5b049",
   "metadata": {},
   "outputs": [
    {
     "data": {
      "text/html": [
       "<div>\n",
       "<style scoped>\n",
       "    .dataframe tbody tr th:only-of-type {\n",
       "        vertical-align: middle;\n",
       "    }\n",
       "\n",
       "    .dataframe tbody tr th {\n",
       "        vertical-align: top;\n",
       "    }\n",
       "\n",
       "    .dataframe thead th {\n",
       "        text-align: right;\n",
       "    }\n",
       "</style>\n",
       "<table border=\"1\" class=\"dataframe\">\n",
       "  <thead>\n",
       "    <tr style=\"text-align: right;\">\n",
       "      <th></th>\n",
       "      <th>observed</th>\n",
       "      <th>expected</th>\n",
       "    </tr>\n",
       "  </thead>\n",
       "  <tbody>\n",
       "    <tr>\n",
       "      <th>1896</th>\n",
       "      <td>11</td>\n",
       "      <td>64</td>\n",
       "    </tr>\n",
       "    <tr>\n",
       "      <th>1900</th>\n",
       "      <td>185</td>\n",
       "      <td>64</td>\n",
       "    </tr>\n",
       "    <tr>\n",
       "      <th>1908</th>\n",
       "      <td>35</td>\n",
       "      <td>64</td>\n",
       "    </tr>\n",
       "    <tr>\n",
       "      <th>1912</th>\n",
       "      <td>25</td>\n",
       "      <td>64</td>\n",
       "    </tr>\n",
       "  </tbody>\n",
       "</table>\n",
       "</div>"
      ],
      "text/plain": [
       "      observed  expected\n",
       "1896        11        64\n",
       "1900       185        64\n",
       "1908        35        64\n",
       "1912        25        64"
      ]
     },
     "execution_count": 11,
     "metadata": {},
     "output_type": "execute_result"
    }
   ],
   "source": [
    "France1900_df = pd.DataFrame({\n",
    "    \"observed\": [11,185, 35, 25],\n",
    "    \"expected\": [64,64,64,64]\n",
    "}, index=[\"1896\", \"1900\", \"1908\", \"1912\"])\n",
    "France1900_df"
   ]
  },
  {
   "cell_type": "code",
   "execution_count": 12,
   "id": "eb7d3f77",
   "metadata": {},
   "outputs": [
    {
     "data": {
      "text/plain": [
       "Power_divergenceResult(statistic=309.5625, pvalue=8.473593998681377e-67)"
      ]
     },
     "execution_count": 12,
     "metadata": {},
     "output_type": "execute_result"
    }
   ],
   "source": [
    "stats.chisquare(France1900_df['observed'], France1900_df['expected'])"
   ]
  },
  {
   "cell_type": "code",
   "execution_count": 13,
   "id": "ae884d9c",
   "metadata": {},
   "outputs": [
    {
     "data": {
      "text/html": [
       "<div>\n",
       "<style scoped>\n",
       "    .dataframe tbody tr th:only-of-type {\n",
       "        vertical-align: middle;\n",
       "    }\n",
       "\n",
       "    .dataframe tbody tr th {\n",
       "        vertical-align: top;\n",
       "    }\n",
       "\n",
       "    .dataframe thead th {\n",
       "        text-align: right;\n",
       "    }\n",
       "</style>\n",
       "<table border=\"1\" class=\"dataframe\">\n",
       "  <thead>\n",
       "    <tr style=\"text-align: right;\">\n",
       "      <th></th>\n",
       "      <th>observed</th>\n",
       "      <th>expected</th>\n",
       "    </tr>\n",
       "  </thead>\n",
       "  <tbody>\n",
       "    <tr>\n",
       "      <th>1896</th>\n",
       "      <td>20</td>\n",
       "      <td>137</td>\n",
       "    </tr>\n",
       "    <tr>\n",
       "      <th>1900</th>\n",
       "      <td>55</td>\n",
       "      <td>138</td>\n",
       "    </tr>\n",
       "    <tr>\n",
       "      <th>1904</th>\n",
       "      <td>394</td>\n",
       "      <td>137</td>\n",
       "    </tr>\n",
       "    <tr>\n",
       "      <th>1908</th>\n",
       "      <td>63</td>\n",
       "      <td>138</td>\n",
       "    </tr>\n",
       "    <tr>\n",
       "      <th>1912</th>\n",
       "      <td>101</td>\n",
       "      <td>138</td>\n",
       "    </tr>\n",
       "    <tr>\n",
       "      <th>1920</th>\n",
       "      <td>193</td>\n",
       "      <td>138</td>\n",
       "    </tr>\n",
       "  </tbody>\n",
       "</table>\n",
       "</div>"
      ],
      "text/plain": [
       "      observed  expected\n",
       "1896        20       137\n",
       "1900        55       138\n",
       "1904       394       137\n",
       "1908        63       138\n",
       "1912       101       138\n",
       "1920       193       138"
      ]
     },
     "execution_count": 13,
     "metadata": {},
     "output_type": "execute_result"
    }
   ],
   "source": [
    "USA1904_df = pd.DataFrame({\n",
    "    \"observed\": [20,55,394, 63,101,193],\n",
    "    \"expected\": [137,138,137,138,138,138]\n",
    "}, index=[\"1896\", \"1900\", \"1904\", \"1908\",\"1912\",\"1920\"])\n",
    "USA1904_df"
   ]
  },
  {
   "cell_type": "code",
   "execution_count": 14,
   "id": "3c64fc02",
   "metadata": {},
   "outputs": [
    {
     "data": {
      "text/plain": [
       "Power_divergenceResult(statistic=704.5509362107268, pvalue=5.096164247574544e-150)"
      ]
     },
     "execution_count": 14,
     "metadata": {},
     "output_type": "execute_result"
    }
   ],
   "source": [
    "stats.chisquare(USA1904_df['observed'], USA1904_df['expected'])"
   ]
  },
  {
   "cell_type": "code",
   "execution_count": 15,
   "id": "d0271c89",
   "metadata": {},
   "outputs": [
    {
     "data": {
      "text/html": [
       "<div>\n",
       "<style scoped>\n",
       "    .dataframe tbody tr th:only-of-type {\n",
       "        vertical-align: middle;\n",
       "    }\n",
       "\n",
       "    .dataframe tbody tr th {\n",
       "        vertical-align: top;\n",
       "    }\n",
       "\n",
       "    .dataframe thead th {\n",
       "        text-align: right;\n",
       "    }\n",
       "</style>\n",
       "<table border=\"1\" class=\"dataframe\">\n",
       "  <thead>\n",
       "    <tr style=\"text-align: right;\">\n",
       "      <th></th>\n",
       "      <th>observed</th>\n",
       "      <th>expected</th>\n",
       "    </tr>\n",
       "  </thead>\n",
       "  <tbody>\n",
       "    <tr>\n",
       "      <th>1896</th>\n",
       "      <td>7</td>\n",
       "      <td>109.57</td>\n",
       "    </tr>\n",
       "    <tr>\n",
       "      <th>1900</th>\n",
       "      <td>78</td>\n",
       "      <td>109.57</td>\n",
       "    </tr>\n",
       "    <tr>\n",
       "      <th>1904</th>\n",
       "      <td>2</td>\n",
       "      <td>109.57</td>\n",
       "    </tr>\n",
       "    <tr>\n",
       "      <th>1908</th>\n",
       "      <td>347</td>\n",
       "      <td>109.57</td>\n",
       "    </tr>\n",
       "    <tr>\n",
       "      <th>1912</th>\n",
       "      <td>160</td>\n",
       "      <td>109.57</td>\n",
       "    </tr>\n",
       "    <tr>\n",
       "      <th>1920</th>\n",
       "      <td>107</td>\n",
       "      <td>109.57</td>\n",
       "    </tr>\n",
       "    <tr>\n",
       "      <th>1924</th>\n",
       "      <td>66</td>\n",
       "      <td>109.57</td>\n",
       "    </tr>\n",
       "  </tbody>\n",
       "</table>\n",
       "</div>"
      ],
      "text/plain": [
       "      observed  expected\n",
       "1896         7    109.57\n",
       "1900        78    109.57\n",
       "1904         2    109.57\n",
       "1908       347    109.57\n",
       "1912       160    109.57\n",
       "1920       107    109.57\n",
       "1924        66    109.57"
      ]
     },
     "execution_count": 15,
     "metadata": {},
     "output_type": "execute_result"
    }
   ],
   "source": [
    "GBR1908_df = pd.DataFrame({\n",
    "    \"observed\": [7,78,2, 347,160,107,66],\n",
    "    \"expected\": [109.57,109.57,109.57,109.57,109.57,109.57,109.57]\n",
    "}, index=[\"1896\", \"1900\", \"1904\", \"1908\",\"1912\",\"1920\",\"1924\"])\n",
    "GBR1908_df"
   ]
  },
  {
   "cell_type": "code",
   "execution_count": 16,
   "id": "cd3e88e9",
   "metadata": {},
   "outputs": [
    {
     "data": {
      "text/plain": [
       "Power_divergenceResult(statistic=765.809202336406, pvalue=3.7502843952284635e-162)"
      ]
     },
     "execution_count": 16,
     "metadata": {},
     "output_type": "execute_result"
    }
   ],
   "source": [
    "stats.chisquare(GBR1908_df['observed'], GBR1908_df['expected'])"
   ]
  },
  {
   "cell_type": "code",
   "execution_count": 17,
   "id": "6356a597",
   "metadata": {},
   "outputs": [
    {
     "data": {
      "text/html": [
       "<div>\n",
       "<style scoped>\n",
       "    .dataframe tbody tr th:only-of-type {\n",
       "        vertical-align: middle;\n",
       "    }\n",
       "\n",
       "    .dataframe tbody tr th {\n",
       "        vertical-align: top;\n",
       "    }\n",
       "\n",
       "    .dataframe thead th {\n",
       "        text-align: right;\n",
       "    }\n",
       "</style>\n",
       "<table border=\"1\" class=\"dataframe\">\n",
       "  <thead>\n",
       "    <tr style=\"text-align: right;\">\n",
       "      <th></th>\n",
       "      <th>observed</th>\n",
       "      <th>expected</th>\n",
       "    </tr>\n",
       "  </thead>\n",
       "  <tbody>\n",
       "    <tr>\n",
       "      <th>1900</th>\n",
       "      <td>1</td>\n",
       "      <td>89</td>\n",
       "    </tr>\n",
       "    <tr>\n",
       "      <th>1908</th>\n",
       "      <td>98</td>\n",
       "      <td>89</td>\n",
       "    </tr>\n",
       "    <tr>\n",
       "      <th>1912</th>\n",
       "      <td>173</td>\n",
       "      <td>89</td>\n",
       "    </tr>\n",
       "    <tr>\n",
       "      <th>1920</th>\n",
       "      <td>146</td>\n",
       "      <td>89</td>\n",
       "    </tr>\n",
       "    <tr>\n",
       "      <th>1924</th>\n",
       "      <td>80</td>\n",
       "      <td>89</td>\n",
       "    </tr>\n",
       "    <tr>\n",
       "      <th>1928</th>\n",
       "      <td>36</td>\n",
       "      <td>89</td>\n",
       "    </tr>\n",
       "  </tbody>\n",
       "</table>\n",
       "</div>"
      ],
      "text/plain": [
       "      observed  expected\n",
       "1900         1        89\n",
       "1908        98        89\n",
       "1912       173        89\n",
       "1920       146        89\n",
       "1924        80        89\n",
       "1928        36        89"
      ]
     },
     "execution_count": 17,
     "metadata": {},
     "output_type": "execute_result"
    }
   ],
   "source": [
    "SWE1912_df = pd.DataFrame({\n",
    "    \"observed\": [1,98,173,146,80,36],\n",
    "    \"expected\": [89,89,89,89,89,89]\n",
    "}, index=[\"1900\", \"1908\",\"1912\",\"1920\",\"1924\",\"1928\"])\n",
    "SWE1912_df"
   ]
  },
  {
   "cell_type": "code",
   "execution_count": 18,
   "id": "20a113ce",
   "metadata": {},
   "outputs": [
    {
     "data": {
      "text/plain": [
       "Power_divergenceResult(statistic=236.17977528089887, pvalue=5.062919347721861e-49)"
      ]
     },
     "execution_count": 18,
     "metadata": {},
     "output_type": "execute_result"
    }
   ],
   "source": [
    "stats.chisquare(SWE1912_df['observed'], SWE1912_df['expected'])"
   ]
  },
  {
   "cell_type": "code",
   "execution_count": 19,
   "id": "d2d5ac46",
   "metadata": {},
   "outputs": [
    {
     "data": {
      "text/html": [
       "<div>\n",
       "<style scoped>\n",
       "    .dataframe tbody tr th:only-of-type {\n",
       "        vertical-align: middle;\n",
       "    }\n",
       "\n",
       "    .dataframe tbody tr th {\n",
       "        vertical-align: top;\n",
       "    }\n",
       "\n",
       "    .dataframe thead th {\n",
       "        text-align: right;\n",
       "    }\n",
       "</style>\n",
       "<table border=\"1\" class=\"dataframe\">\n",
       "  <thead>\n",
       "    <tr style=\"text-align: right;\">\n",
       "      <th></th>\n",
       "      <th>observed</th>\n",
       "      <th>expected</th>\n",
       "    </tr>\n",
       "  </thead>\n",
       "  <tbody>\n",
       "    <tr>\n",
       "      <th>1908</th>\n",
       "      <td>31</td>\n",
       "      <td>56.2</td>\n",
       "    </tr>\n",
       "    <tr>\n",
       "      <th>1912</th>\n",
       "      <td>19</td>\n",
       "      <td>56.2</td>\n",
       "    </tr>\n",
       "    <tr>\n",
       "      <th>1920</th>\n",
       "      <td>188</td>\n",
       "      <td>56.2</td>\n",
       "    </tr>\n",
       "    <tr>\n",
       "      <th>1924</th>\n",
       "      <td>38</td>\n",
       "      <td>56.2</td>\n",
       "    </tr>\n",
       "    <tr>\n",
       "      <th>1928</th>\n",
       "      <td>5</td>\n",
       "      <td>56.2</td>\n",
       "    </tr>\n",
       "  </tbody>\n",
       "</table>\n",
       "</div>"
      ],
      "text/plain": [
       "      observed  expected\n",
       "1908        31      56.2\n",
       "1912        19      56.2\n",
       "1920       188      56.2\n",
       "1924        38      56.2\n",
       "1928         5      56.2"
      ]
     },
     "execution_count": 19,
     "metadata": {},
     "output_type": "execute_result"
    }
   ],
   "source": [
    "BEL1920_df = pd.DataFrame({\n",
    "    \"observed\": [31,19,188,38,5],\n",
    "    \"expected\": [56.2,56.2,56.2,56.2,56.2]\n",
    "}, index=[\"1908\",\"1912\",\"1920\",\"1924\",\"1928\"])\n",
    "BEL1920_df"
   ]
  },
  {
   "cell_type": "code",
   "execution_count": 20,
   "id": "fb6cbfcc",
   "metadata": {},
   "outputs": [
    {
     "data": {
      "text/plain": [
       "Power_divergenceResult(statistic=397.55871886120997, pvalue=9.370692771854178e-85)"
      ]
     },
     "execution_count": 20,
     "metadata": {},
     "output_type": "execute_result"
    }
   ],
   "source": [
    "stats.chisquare(BEL1920_df['observed'], BEL1920_df['expected'])"
   ]
  },
  {
   "cell_type": "code",
   "execution_count": 21,
   "id": "dca6aaf3",
   "metadata": {},
   "outputs": [
    {
     "data": {
      "text/html": [
       "<div>\n",
       "<style scoped>\n",
       "    .dataframe tbody tr th:only-of-type {\n",
       "        vertical-align: middle;\n",
       "    }\n",
       "\n",
       "    .dataframe tbody tr th {\n",
       "        vertical-align: top;\n",
       "    }\n",
       "\n",
       "    .dataframe thead th {\n",
       "        text-align: right;\n",
       "    }\n",
       "</style>\n",
       "<table border=\"1\" class=\"dataframe\">\n",
       "  <thead>\n",
       "    <tr style=\"text-align: right;\">\n",
       "      <th></th>\n",
       "      <th>observed</th>\n",
       "      <th>expected</th>\n",
       "    </tr>\n",
       "  </thead>\n",
       "  <tbody>\n",
       "    <tr>\n",
       "      <th>1908</th>\n",
       "      <td>35</td>\n",
       "      <td>62.7</td>\n",
       "    </tr>\n",
       "    <tr>\n",
       "      <th>1912</th>\n",
       "      <td>25</td>\n",
       "      <td>62.7</td>\n",
       "    </tr>\n",
       "    <tr>\n",
       "      <th>1920</th>\n",
       "      <td>141</td>\n",
       "      <td>62.7</td>\n",
       "    </tr>\n",
       "    <tr>\n",
       "      <th>1924</th>\n",
       "      <td>122</td>\n",
       "      <td>62.7</td>\n",
       "    </tr>\n",
       "    <tr>\n",
       "      <th>1928</th>\n",
       "      <td>36</td>\n",
       "      <td>62.7</td>\n",
       "    </tr>\n",
       "    <tr>\n",
       "      <th>1932</th>\n",
       "      <td>37</td>\n",
       "      <td>62.7</td>\n",
       "    </tr>\n",
       "    <tr>\n",
       "      <th>1936</th>\n",
       "      <td>43</td>\n",
       "      <td>62.7</td>\n",
       "    </tr>\n",
       "  </tbody>\n",
       "</table>\n",
       "</div>"
      ],
      "text/plain": [
       "      observed  expected\n",
       "1908        35      62.7\n",
       "1912        25      62.7\n",
       "1920       141      62.7\n",
       "1924       122      62.7\n",
       "1928        36      62.7\n",
       "1932        37      62.7\n",
       "1936        43      62.7"
      ]
     },
     "execution_count": 21,
     "metadata": {},
     "output_type": "execute_result"
    }
   ],
   "source": [
    "FRA1924_df = pd.DataFrame({\n",
    "    \"observed\":[35,25,141,122,36,37,43],\n",
    "    \"expected\": [62.7,62.7,62.7,62.7,62.7,62.7,62.7]\n",
    "}, index=[\"1908\",\"1912\",\"1920\",\"1924\",\"1928\",\"1932\",\"1936\"])\n",
    "FRA1924_df"
   ]
  },
  {
   "cell_type": "code",
   "execution_count": 22,
   "id": "97bb1109",
   "metadata": {},
   "outputs": [
    {
     "data": {
      "text/plain": [
       "Power_divergenceResult(statistic=216.86491228070176, pvalue=4.849323988826844e-44)"
      ]
     },
     "execution_count": 22,
     "metadata": {},
     "output_type": "execute_result"
    }
   ],
   "source": [
    "stats.chisquare(FRA1924_df['observed'], FRA1924_df['expected'])"
   ]
  },
  {
   "cell_type": "code",
   "execution_count": 23,
   "id": "fe5741bf",
   "metadata": {},
   "outputs": [
    {
     "data": {
      "text/html": [
       "<div>\n",
       "<style scoped>\n",
       "    .dataframe tbody tr th:only-of-type {\n",
       "        vertical-align: middle;\n",
       "    }\n",
       "\n",
       "    .dataframe tbody tr th {\n",
       "        vertical-align: top;\n",
       "    }\n",
       "\n",
       "    .dataframe thead th {\n",
       "        text-align: right;\n",
       "    }\n",
       "</style>\n",
       "<table border=\"1\" class=\"dataframe\">\n",
       "  <thead>\n",
       "    <tr style=\"text-align: right;\">\n",
       "      <th></th>\n",
       "      <th>observed</th>\n",
       "      <th>expected</th>\n",
       "    </tr>\n",
       "  </thead>\n",
       "  <tbody>\n",
       "    <tr>\n",
       "      <th>1912</th>\n",
       "      <td>22</td>\n",
       "      <td>36</td>\n",
       "    </tr>\n",
       "    <tr>\n",
       "      <th>1920</th>\n",
       "      <td>48</td>\n",
       "      <td>36</td>\n",
       "    </tr>\n",
       "    <tr>\n",
       "      <th>1924</th>\n",
       "      <td>26</td>\n",
       "      <td>36</td>\n",
       "    </tr>\n",
       "    <tr>\n",
       "      <th>1928</th>\n",
       "      <td>65</td>\n",
       "      <td>36</td>\n",
       "    </tr>\n",
       "    <tr>\n",
       "      <th>1932</th>\n",
       "      <td>12</td>\n",
       "      <td>36</td>\n",
       "    </tr>\n",
       "    <tr>\n",
       "      <th>1936</th>\n",
       "      <td>37</td>\n",
       "      <td>36</td>\n",
       "    </tr>\n",
       "    <tr>\n",
       "      <th>1948</th>\n",
       "      <td>42</td>\n",
       "      <td>36</td>\n",
       "    </tr>\n",
       "  </tbody>\n",
       "</table>\n",
       "</div>"
      ],
      "text/plain": [
       "      observed  expected\n",
       "1912        22        36\n",
       "1920        48        36\n",
       "1924        26        36\n",
       "1928        65        36\n",
       "1932        12        36\n",
       "1936        37        36\n",
       "1948        42        36"
      ]
     },
     "execution_count": 23,
     "metadata": {},
     "output_type": "execute_result"
    }
   ],
   "source": [
    "NED1928_df = pd.DataFrame({\n",
    "    \"observed\": [22,48,26,65,12,37,42],\n",
    "    \"expected\": [36,36,36,36,36,36,36]\n",
    "}, index=[\"1912\",\"1920\",\"1924\",\"1928\",\"1932\",\"1936\",\"1948\"])\n",
    "NED1928_df"
   ]
  },
  {
   "cell_type": "code",
   "execution_count": 24,
   "id": "b5bee986",
   "metadata": {},
   "outputs": [
    {
     "data": {
      "text/plain": [
       "Power_divergenceResult(statistic=52.61111111111111, pvalue=1.4050653009397846e-09)"
      ]
     },
     "execution_count": 24,
     "metadata": {},
     "output_type": "execute_result"
    }
   ],
   "source": [
    "stats.chisquare(NED1928_df['observed'], NED1928_df['expected'])"
   ]
  },
  {
   "cell_type": "code",
   "execution_count": 25,
   "id": "32136ed9",
   "metadata": {},
   "outputs": [
    {
     "data": {
      "text/html": [
       "<div>\n",
       "<style scoped>\n",
       "    .dataframe tbody tr th:only-of-type {\n",
       "        vertical-align: middle;\n",
       "    }\n",
       "\n",
       "    .dataframe tbody tr th {\n",
       "        vertical-align: top;\n",
       "    }\n",
       "\n",
       "    .dataframe thead th {\n",
       "        text-align: right;\n",
       "    }\n",
       "</style>\n",
       "<table border=\"1\" class=\"dataframe\">\n",
       "  <thead>\n",
       "    <tr style=\"text-align: right;\">\n",
       "      <th></th>\n",
       "      <th>observed</th>\n",
       "      <th>expected</th>\n",
       "    </tr>\n",
       "  </thead>\n",
       "  <tbody>\n",
       "    <tr>\n",
       "      <th>1920</th>\n",
       "      <td>193</td>\n",
       "      <td>146.85</td>\n",
       "    </tr>\n",
       "    <tr>\n",
       "      <th>1924</th>\n",
       "      <td>198</td>\n",
       "      <td>146.85</td>\n",
       "    </tr>\n",
       "    <tr>\n",
       "      <th>1928</th>\n",
       "      <td>84</td>\n",
       "      <td>146.85</td>\n",
       "    </tr>\n",
       "    <tr>\n",
       "      <th>1932</th>\n",
       "      <td>181</td>\n",
       "      <td>146.85</td>\n",
       "    </tr>\n",
       "    <tr>\n",
       "      <th>1936</th>\n",
       "      <td>92</td>\n",
       "      <td>146.85</td>\n",
       "    </tr>\n",
       "    <tr>\n",
       "      <th>1948</th>\n",
       "      <td>148</td>\n",
       "      <td>146.85</td>\n",
       "    </tr>\n",
       "    <tr>\n",
       "      <th>1952</th>\n",
       "      <td>132</td>\n",
       "      <td>146.85</td>\n",
       "    </tr>\n",
       "  </tbody>\n",
       "</table>\n",
       "</div>"
      ],
      "text/plain": [
       "      observed  expected\n",
       "1920       193    146.85\n",
       "1924       198    146.85\n",
       "1928        84    146.85\n",
       "1932       181    146.85\n",
       "1936        92    146.85\n",
       "1948       148    146.85\n",
       "1952       132    146.85"
      ]
     },
     "execution_count": 25,
     "metadata": {},
     "output_type": "execute_result"
    }
   ],
   "source": [
    "USA1932_df = pd.DataFrame({\n",
    "    \"observed\": [193,198,84,181,92,148,132],\n",
    "    \"expected\": [146.85,146.85,146.85,146.85,146.85,146.85,146.85]\n",
    "}, index=[\"1920\",\"1924\",\"1928\",\"1932\",\"1936\",\"1948\",\"1952\"])\n",
    "USA1932_df"
   ]
  },
  {
   "cell_type": "code",
   "execution_count": 26,
   "id": "5d8c1c5a",
   "metadata": {},
   "outputs": [
    {
     "data": {
      "text/plain": [
       "Power_divergenceResult(statistic=89.15803541028261, pvalue=4.5319752619692944e-17)"
      ]
     },
     "execution_count": 26,
     "metadata": {},
     "output_type": "execute_result"
    }
   ],
   "source": [
    "stats.chisquare(USA1932_df['observed'], USA1932_df['expected'])"
   ]
  },
  {
   "cell_type": "code",
   "execution_count": 27,
   "id": "b2cd8d62",
   "metadata": {},
   "outputs": [
    {
     "data": {
      "text/html": [
       "<div>\n",
       "<style scoped>\n",
       "    .dataframe tbody tr th:only-of-type {\n",
       "        vertical-align: middle;\n",
       "    }\n",
       "\n",
       "    .dataframe tbody tr th {\n",
       "        vertical-align: top;\n",
       "    }\n",
       "\n",
       "    .dataframe thead th {\n",
       "        text-align: right;\n",
       "    }\n",
       "</style>\n",
       "<table border=\"1\" class=\"dataframe\">\n",
       "  <thead>\n",
       "    <tr style=\"text-align: right;\">\n",
       "      <th></th>\n",
       "      <th>observed</th>\n",
       "      <th>expected</th>\n",
       "    </tr>\n",
       "  </thead>\n",
       "  <tbody>\n",
       "    <tr>\n",
       "      <th>1928</th>\n",
       "      <td>72</td>\n",
       "      <td>90</td>\n",
       "    </tr>\n",
       "    <tr>\n",
       "      <th>1932</th>\n",
       "      <td>38</td>\n",
       "      <td>90</td>\n",
       "    </tr>\n",
       "    <tr>\n",
       "      <th>1936</th>\n",
       "      <td>210</td>\n",
       "      <td>90</td>\n",
       "    </tr>\n",
       "    <tr>\n",
       "      <th>1952</th>\n",
       "      <td>40</td>\n",
       "      <td>90</td>\n",
       "    </tr>\n",
       "  </tbody>\n",
       "</table>\n",
       "</div>"
      ],
      "text/plain": [
       "      observed  expected\n",
       "1928        72        90\n",
       "1932        38        90\n",
       "1936       210        90\n",
       "1952        40        90"
      ]
     },
     "execution_count": 27,
     "metadata": {},
     "output_type": "execute_result"
    }
   ],
   "source": [
    "GER1936_df = pd.DataFrame({\n",
    "    \"observed\": [72,38,210,40],\n",
    "    \"expected\": [90,90,90,90]\n",
    "}, index=[\"1928\",\"1932\",\"1936\",\"1952\"])\n",
    "GER1936_df"
   ]
  },
  {
   "cell_type": "code",
   "execution_count": 28,
   "id": "9c8fa8a9",
   "metadata": {},
   "outputs": [
    {
     "data": {
      "text/plain": [
       "Power_divergenceResult(statistic=221.42222222222222, pvalue=9.89177642784769e-48)"
      ]
     },
     "execution_count": 28,
     "metadata": {},
     "output_type": "execute_result"
    }
   ],
   "source": [
    "stats.chisquare(GER1936_df['observed'], GER1936_df['expected'])"
   ]
  },
  {
   "cell_type": "code",
   "execution_count": 29,
   "id": "8c6a5c13",
   "metadata": {},
   "outputs": [
    {
     "data": {
      "text/html": [
       "<div>\n",
       "<style scoped>\n",
       "    .dataframe tbody tr th:only-of-type {\n",
       "        vertical-align: middle;\n",
       "    }\n",
       "\n",
       "    .dataframe tbody tr th {\n",
       "        vertical-align: top;\n",
       "    }\n",
       "\n",
       "    .dataframe thead th {\n",
       "        text-align: right;\n",
       "    }\n",
       "</style>\n",
       "<table border=\"1\" class=\"dataframe\">\n",
       "  <thead>\n",
       "    <tr style=\"text-align: right;\">\n",
       "      <th></th>\n",
       "      <th>observed</th>\n",
       "      <th>expected</th>\n",
       "    </tr>\n",
       "  </thead>\n",
       "  <tbody>\n",
       "    <tr>\n",
       "      <th>1928</th>\n",
       "      <td>55</td>\n",
       "      <td>40.7</td>\n",
       "    </tr>\n",
       "    <tr>\n",
       "      <th>1932</th>\n",
       "      <td>34</td>\n",
       "      <td>40.7</td>\n",
       "    </tr>\n",
       "    <tr>\n",
       "      <th>1936</th>\n",
       "      <td>36</td>\n",
       "      <td>40.7</td>\n",
       "    </tr>\n",
       "    <tr>\n",
       "      <th>1948</th>\n",
       "      <td>56</td>\n",
       "      <td>40.7</td>\n",
       "    </tr>\n",
       "    <tr>\n",
       "      <th>1952</th>\n",
       "      <td>31</td>\n",
       "      <td>40.7</td>\n",
       "    </tr>\n",
       "    <tr>\n",
       "      <th>1956</th>\n",
       "      <td>45</td>\n",
       "      <td>40.7</td>\n",
       "    </tr>\n",
       "    <tr>\n",
       "      <th>1960</th>\n",
       "      <td>28</td>\n",
       "      <td>40.7</td>\n",
       "    </tr>\n",
       "  </tbody>\n",
       "</table>\n",
       "</div>"
      ],
      "text/plain": [
       "      observed  expected\n",
       "1928        55      40.7\n",
       "1932        34      40.7\n",
       "1936        36      40.7\n",
       "1948        56      40.7\n",
       "1952        31      40.7\n",
       "1956        45      40.7\n",
       "1960        28      40.7"
      ]
     },
     "execution_count": 29,
     "metadata": {},
     "output_type": "execute_result"
    }
   ],
   "source": [
    "GBR1948_df = pd.DataFrame({\n",
    "    \"observed\": [55,34,36,56,31,45,28],\n",
    "    \"expected\": [40.7,40.7,40.7,40.7,40.7,40.7,40.7]\n",
    "}, index=[\"1928\",\"1932\",\"1936\",\"1948\",\"1952\",\"1956\",\"1960\"])\n",
    "GBR1948_df"
   ]
  },
  {
   "cell_type": "code",
   "execution_count": 30,
   "id": "e252867a",
   "metadata": {},
   "outputs": [
    {
     "data": {
      "text/plain": [
       "Power_divergenceResult(statistic=19.15061425061425, pvalue=0.0039166877821731625)"
      ]
     },
     "execution_count": 30,
     "metadata": {},
     "output_type": "execute_result"
    }
   ],
   "source": [
    "stats.chisquare(GBR1948_df['observed'], GBR1948_df['expected'])"
   ]
  },
  {
   "cell_type": "code",
   "execution_count": 31,
   "id": "d5e7dd72",
   "metadata": {},
   "outputs": [
    {
     "data": {
      "text/html": [
       "<div>\n",
       "<style scoped>\n",
       "    .dataframe tbody tr th:only-of-type {\n",
       "        vertical-align: middle;\n",
       "    }\n",
       "\n",
       "    .dataframe tbody tr th {\n",
       "        vertical-align: top;\n",
       "    }\n",
       "\n",
       "    .dataframe thead th {\n",
       "        text-align: right;\n",
       "    }\n",
       "</style>\n",
       "<table border=\"1\" class=\"dataframe\">\n",
       "  <thead>\n",
       "    <tr style=\"text-align: right;\">\n",
       "      <th></th>\n",
       "      <th>observed</th>\n",
       "      <th>expected</th>\n",
       "    </tr>\n",
       "  </thead>\n",
       "  <tbody>\n",
       "    <tr>\n",
       "      <th>1932</th>\n",
       "      <td>29</td>\n",
       "      <td>23</td>\n",
       "    </tr>\n",
       "    <tr>\n",
       "      <th>1936</th>\n",
       "      <td>26</td>\n",
       "      <td>23</td>\n",
       "    </tr>\n",
       "    <tr>\n",
       "      <th>1948</th>\n",
       "      <td>29</td>\n",
       "      <td>23</td>\n",
       "    </tr>\n",
       "    <tr>\n",
       "      <th>1952</th>\n",
       "      <td>40</td>\n",
       "      <td>23</td>\n",
       "    </tr>\n",
       "    <tr>\n",
       "      <th>1956</th>\n",
       "      <td>26</td>\n",
       "      <td>23</td>\n",
       "    </tr>\n",
       "    <tr>\n",
       "      <th>1960</th>\n",
       "      <td>6</td>\n",
       "      <td>23</td>\n",
       "    </tr>\n",
       "    <tr>\n",
       "      <th>1964</th>\n",
       "      <td>5</td>\n",
       "      <td>23</td>\n",
       "    </tr>\n",
       "  </tbody>\n",
       "</table>\n",
       "</div>"
      ],
      "text/plain": [
       "      observed  expected\n",
       "1932        29        23\n",
       "1936        26        23\n",
       "1948        29        23\n",
       "1952        40        23\n",
       "1956        26        23\n",
       "1960         6        23\n",
       "1964         5        23"
      ]
     },
     "execution_count": 31,
     "metadata": {},
     "output_type": "execute_result"
    }
   ],
   "source": [
    "FIN1952_df = pd.DataFrame({\n",
    "    \"observed\": [29,26,29,40,26,6,5],\n",
    "    \"expected\": [23,23,23,23,23,23,23]\n",
    "}, index=[\"1932\",\"1936\",\"1948\",\"1952\",\"1956\",\"1960\",\"1964\"])\n",
    "FIN1952_df"
   ]
  },
  {
   "cell_type": "code",
   "execution_count": 32,
   "id": "a1da155a",
   "metadata": {},
   "outputs": [
    {
     "data": {
      "text/plain": [
       "Power_divergenceResult(statistic=43.130434782608695, pvalue=1.0991227864511534e-07)"
      ]
     },
     "execution_count": 32,
     "metadata": {},
     "output_type": "execute_result"
    }
   ],
   "source": [
    "stats.chisquare(FIN1952_df['observed'], FIN1952_df['expected'])"
   ]
  },
  {
   "cell_type": "code",
   "execution_count": 33,
   "id": "6ee35ee2",
   "metadata": {},
   "outputs": [
    {
     "data": {
      "text/html": [
       "<div>\n",
       "<style scoped>\n",
       "    .dataframe tbody tr th:only-of-type {\n",
       "        vertical-align: middle;\n",
       "    }\n",
       "\n",
       "    .dataframe tbody tr th {\n",
       "        vertical-align: top;\n",
       "    }\n",
       "\n",
       "    .dataframe thead th {\n",
       "        text-align: right;\n",
       "    }\n",
       "</style>\n",
       "<table border=\"1\" class=\"dataframe\">\n",
       "  <thead>\n",
       "    <tr style=\"text-align: right;\">\n",
       "      <th></th>\n",
       "      <th>observed</th>\n",
       "      <th>expected</th>\n",
       "    </tr>\n",
       "  </thead>\n",
       "  <tbody>\n",
       "    <tr>\n",
       "      <th>1948</th>\n",
       "      <td>63</td>\n",
       "      <td>51</td>\n",
       "    </tr>\n",
       "    <tr>\n",
       "      <th>1952</th>\n",
       "      <td>53</td>\n",
       "      <td>51</td>\n",
       "    </tr>\n",
       "    <tr>\n",
       "      <th>1956</th>\n",
       "      <td>46</td>\n",
       "      <td>51</td>\n",
       "    </tr>\n",
       "    <tr>\n",
       "      <th>1960</th>\n",
       "      <td>88</td>\n",
       "      <td>51</td>\n",
       "    </tr>\n",
       "    <tr>\n",
       "      <th>1964</th>\n",
       "      <td>50</td>\n",
       "      <td>51</td>\n",
       "    </tr>\n",
       "    <tr>\n",
       "      <th>1968</th>\n",
       "      <td>32</td>\n",
       "      <td>51</td>\n",
       "    </tr>\n",
       "    <tr>\n",
       "      <th>1972</th>\n",
       "      <td>25</td>\n",
       "      <td>51</td>\n",
       "    </tr>\n",
       "  </tbody>\n",
       "</table>\n",
       "</div>"
      ],
      "text/plain": [
       "      observed  expected\n",
       "1948        63        51\n",
       "1952        53        51\n",
       "1956        46        51\n",
       "1960        88        51\n",
       "1964        50        51\n",
       "1968        32        51\n",
       "1972        25        51"
      ]
     },
     "execution_count": 33,
     "metadata": {},
     "output_type": "execute_result"
    }
   ],
   "source": [
    "ITA1960_df = pd.DataFrame({\n",
    "    \"observed\": [63,53,46,88,50,32,25],\n",
    "    \"expected\": [51,51,51,51,51,51,51]\n",
    "}, index=[\"1948\",\"1952\",\"1956\",\"1960\",\"1964\",\"1968\",\"1972\"])\n",
    "ITA1960_df"
   ]
  },
  {
   "cell_type": "code",
   "execution_count": 34,
   "id": "521f064f",
   "metadata": {},
   "outputs": [
    {
     "data": {
      "text/plain": [
       "Power_divergenceResult(statistic=50.588235294117645, pvalue=3.5827721585838566e-09)"
      ]
     },
     "execution_count": 34,
     "metadata": {},
     "output_type": "execute_result"
    }
   ],
   "source": [
    "stats.chisquare(ITA1960_df['observed'], ITA1960_df['expected'])"
   ]
  },
  {
   "cell_type": "code",
   "execution_count": 35,
   "id": "0aebc5de",
   "metadata": {},
   "outputs": [
    {
     "data": {
      "text/html": [
       "<div>\n",
       "<style scoped>\n",
       "    .dataframe tbody tr th:only-of-type {\n",
       "        vertical-align: middle;\n",
       "    }\n",
       "\n",
       "    .dataframe tbody tr th {\n",
       "        vertical-align: top;\n",
       "    }\n",
       "\n",
       "    .dataframe thead th {\n",
       "        text-align: right;\n",
       "    }\n",
       "</style>\n",
       "<table border=\"1\" class=\"dataframe\">\n",
       "  <thead>\n",
       "    <tr style=\"text-align: right;\">\n",
       "      <th></th>\n",
       "      <th>observed</th>\n",
       "      <th>expected</th>\n",
       "    </tr>\n",
       "  </thead>\n",
       "  <tbody>\n",
       "    <tr>\n",
       "      <th>1952</th>\n",
       "      <td>12</td>\n",
       "      <td>41.86</td>\n",
       "    </tr>\n",
       "    <tr>\n",
       "      <th>1956</th>\n",
       "      <td>24</td>\n",
       "      <td>41.86</td>\n",
       "    </tr>\n",
       "    <tr>\n",
       "      <th>1960</th>\n",
       "      <td>29</td>\n",
       "      <td>41.86</td>\n",
       "    </tr>\n",
       "    <tr>\n",
       "      <th>1964</th>\n",
       "      <td>64</td>\n",
       "      <td>41.86</td>\n",
       "    </tr>\n",
       "    <tr>\n",
       "      <th>1968</th>\n",
       "      <td>67</td>\n",
       "      <td>41.86</td>\n",
       "    </tr>\n",
       "    <tr>\n",
       "      <th>1972</th>\n",
       "      <td>56</td>\n",
       "      <td>41.86</td>\n",
       "    </tr>\n",
       "    <tr>\n",
       "      <th>1976</th>\n",
       "      <td>41</td>\n",
       "      <td>41.86</td>\n",
       "    </tr>\n",
       "  </tbody>\n",
       "</table>\n",
       "</div>"
      ],
      "text/plain": [
       "      observed  expected\n",
       "1952        12     41.86\n",
       "1956        24     41.86\n",
       "1960        29     41.86\n",
       "1964        64     41.86\n",
       "1968        67     41.86\n",
       "1972        56     41.86\n",
       "1976        41     41.86"
      ]
     },
     "execution_count": 35,
     "metadata": {},
     "output_type": "execute_result"
    }
   ],
   "source": [
    "JPN1964_df = pd.DataFrame({\n",
    "    \"observed\": [12,24,29,64,67,56,41],\n",
    "    \"expected\": [41.86,41.86,41.86,41.86,41.86,41.86,41.86]\n",
    "}, index=[\"1952\",\"1956\",\"1960\",\"1964\",\"1968\",\"1972\",\"1976\"])\n",
    "JPN1964_df"
   ]
  },
  {
   "cell_type": "code",
   "execution_count": 36,
   "id": "17eb6eac",
   "metadata": {},
   "outputs": [
    {
     "data": {
      "text/plain": [
       "Power_divergenceResult(statistic=64.47341614906833, pvalue=5.525537633677462e-12)"
      ]
     },
     "execution_count": 36,
     "metadata": {},
     "output_type": "execute_result"
    }
   ],
   "source": [
    "stats.chisquare(JPN1964_df['observed'], JPN1964_df['expected'])"
   ]
  },
  {
   "cell_type": "code",
   "execution_count": 37,
   "id": "f4e43f6d",
   "metadata": {},
   "outputs": [
    {
     "data": {
      "text/html": [
       "<div>\n",
       "<style scoped>\n",
       "    .dataframe tbody tr th:only-of-type {\n",
       "        vertical-align: middle;\n",
       "    }\n",
       "\n",
       "    .dataframe tbody tr th {\n",
       "        vertical-align: top;\n",
       "    }\n",
       "\n",
       "    .dataframe thead th {\n",
       "        text-align: right;\n",
       "    }\n",
       "</style>\n",
       "<table border=\"1\" class=\"dataframe\">\n",
       "  <thead>\n",
       "    <tr style=\"text-align: right;\">\n",
       "      <th></th>\n",
       "      <th>observed</th>\n",
       "      <th>expected</th>\n",
       "    </tr>\n",
       "  </thead>\n",
       "  <tbody>\n",
       "    <tr>\n",
       "      <th>1956</th>\n",
       "      <td>2</td>\n",
       "      <td>4</td>\n",
       "    </tr>\n",
       "    <tr>\n",
       "      <th>1960</th>\n",
       "      <td>1</td>\n",
       "      <td>4</td>\n",
       "    </tr>\n",
       "    <tr>\n",
       "      <th>1964</th>\n",
       "      <td>1</td>\n",
       "      <td>4</td>\n",
       "    </tr>\n",
       "    <tr>\n",
       "      <th>1968</th>\n",
       "      <td>9</td>\n",
       "      <td>4</td>\n",
       "    </tr>\n",
       "    <tr>\n",
       "      <th>1972</th>\n",
       "      <td>1</td>\n",
       "      <td>4</td>\n",
       "    </tr>\n",
       "    <tr>\n",
       "      <th>1976</th>\n",
       "      <td>2</td>\n",
       "      <td>4</td>\n",
       "    </tr>\n",
       "    <tr>\n",
       "      <th>1980</th>\n",
       "      <td>12</td>\n",
       "      <td>4</td>\n",
       "    </tr>\n",
       "  </tbody>\n",
       "</table>\n",
       "</div>"
      ],
      "text/plain": [
       "      observed  expected\n",
       "1956         2         4\n",
       "1960         1         4\n",
       "1964         1         4\n",
       "1968         9         4\n",
       "1972         1         4\n",
       "1976         2         4\n",
       "1980        12         4"
      ]
     },
     "execution_count": 37,
     "metadata": {},
     "output_type": "execute_result"
    }
   ],
   "source": [
    "MEX1968_df = pd.DataFrame({\n",
    "    \"observed\": [2,1,1,9,1,2,12],\n",
    "    \"expected\": [4,4,4,4,4,4,4]\n",
    "}, index=[\"1956\",\"1960\",\"1964\",\"1968\",\"1972\",\"1976\",\"1980\"])\n",
    "MEX1968_df"
   ]
  },
  {
   "cell_type": "code",
   "execution_count": 38,
   "id": "47dfd84d",
   "metadata": {},
   "outputs": [
    {
     "data": {
      "text/plain": [
       "Power_divergenceResult(statistic=31.0, pvalue=2.5349284491740774e-05)"
      ]
     },
     "execution_count": 38,
     "metadata": {},
     "output_type": "execute_result"
    }
   ],
   "source": [
    "stats.chisquare(MEX1968_df['observed'], MEX1968_df['expected'])"
   ]
  },
  {
   "cell_type": "code",
   "execution_count": 39,
   "id": "51850742",
   "metadata": {},
   "outputs": [
    {
     "data": {
      "text/html": [
       "<div>\n",
       "<style scoped>\n",
       "    .dataframe tbody tr th:only-of-type {\n",
       "        vertical-align: middle;\n",
       "    }\n",
       "\n",
       "    .dataframe tbody tr th {\n",
       "        vertical-align: top;\n",
       "    }\n",
       "\n",
       "    .dataframe thead th {\n",
       "        text-align: right;\n",
       "    }\n",
       "</style>\n",
       "<table border=\"1\" class=\"dataframe\">\n",
       "  <thead>\n",
       "    <tr style=\"text-align: right;\">\n",
       "      <th></th>\n",
       "      <th>observed</th>\n",
       "      <th>expected</th>\n",
       "    </tr>\n",
       "  </thead>\n",
       "  <tbody>\n",
       "    <tr>\n",
       "      <th>1964</th>\n",
       "      <td>5</td>\n",
       "      <td>25.33</td>\n",
       "    </tr>\n",
       "    <tr>\n",
       "      <th>1968</th>\n",
       "      <td>10</td>\n",
       "      <td>25.33</td>\n",
       "    </tr>\n",
       "    <tr>\n",
       "      <th>1972</th>\n",
       "      <td>10</td>\n",
       "      <td>25.33</td>\n",
       "    </tr>\n",
       "    <tr>\n",
       "      <th>1976</th>\n",
       "      <td>20</td>\n",
       "      <td>25.33</td>\n",
       "    </tr>\n",
       "    <tr>\n",
       "      <th>1984</th>\n",
       "      <td>86</td>\n",
       "      <td>25.33</td>\n",
       "    </tr>\n",
       "    <tr>\n",
       "      <th>1988</th>\n",
       "      <td>21</td>\n",
       "      <td>25.33</td>\n",
       "    </tr>\n",
       "  </tbody>\n",
       "</table>\n",
       "</div>"
      ],
      "text/plain": [
       "      observed  expected\n",
       "1964         5     25.33\n",
       "1968        10     25.33\n",
       "1972        10     25.33\n",
       "1976        20     25.33\n",
       "1984        86     25.33\n",
       "1988        21     25.33"
      ]
     },
     "execution_count": 39,
     "metadata": {},
     "output_type": "execute_result"
    }
   ],
   "source": [
    "CAN1976_df = pd.DataFrame({\n",
    "    \"observed\": [5,10,10,20,86,21],\n",
    "    \"expected\": [25.33,25.33,25.33,25.33,25.33,25.33]\n",
    "}, index=[\"1964\",\"1968\",\"1972\",\"1976\",\"1984\",\"1988\"])\n",
    "CAN1976_df"
   ]
  },
  {
   "cell_type": "code",
   "execution_count": 40,
   "id": "4572bfc9",
   "metadata": {},
   "outputs": [
    {
     "data": {
      "text/plain": [
       "Power_divergenceResult(statistic=182.05027240426375, pvalue=1.952217936869038e-37)"
      ]
     },
     "execution_count": 40,
     "metadata": {},
     "output_type": "execute_result"
    }
   ],
   "source": [
    "stats.chisquare(CAN1976_df['observed'], CAN1976_df['expected'])"
   ]
  },
  {
   "cell_type": "code",
   "execution_count": 41,
   "id": "a7e75384",
   "metadata": {},
   "outputs": [
    {
     "data": {
      "text/html": [
       "<div>\n",
       "<style scoped>\n",
       "    .dataframe tbody tr th:only-of-type {\n",
       "        vertical-align: middle;\n",
       "    }\n",
       "\n",
       "    .dataframe tbody tr th {\n",
       "        vertical-align: top;\n",
       "    }\n",
       "\n",
       "    .dataframe thead th {\n",
       "        text-align: right;\n",
       "    }\n",
       "</style>\n",
       "<table border=\"1\" class=\"dataframe\">\n",
       "  <thead>\n",
       "    <tr style=\"text-align: right;\">\n",
       "      <th></th>\n",
       "      <th>observed</th>\n",
       "      <th>expected</th>\n",
       "    </tr>\n",
       "  </thead>\n",
       "  <tbody>\n",
       "    <tr>\n",
       "      <th>1968</th>\n",
       "      <td>188</td>\n",
       "      <td>284</td>\n",
       "    </tr>\n",
       "    <tr>\n",
       "      <th>1972</th>\n",
       "      <td>211</td>\n",
       "      <td>284</td>\n",
       "    </tr>\n",
       "    <tr>\n",
       "      <th>1976</th>\n",
       "      <td>285</td>\n",
       "      <td>284</td>\n",
       "    </tr>\n",
       "    <tr>\n",
       "      <th>1980</th>\n",
       "      <td>442</td>\n",
       "      <td>284</td>\n",
       "    </tr>\n",
       "    <tr>\n",
       "      <th>1988</th>\n",
       "      <td>294</td>\n",
       "      <td>284</td>\n",
       "    </tr>\n",
       "  </tbody>\n",
       "</table>\n",
       "</div>"
      ],
      "text/plain": [
       "      observed  expected\n",
       "1968       188       284\n",
       "1972       211       284\n",
       "1976       285       284\n",
       "1980       442       284\n",
       "1988       294       284"
      ]
     },
     "execution_count": 41,
     "metadata": {},
     "output_type": "execute_result"
    }
   ],
   "source": [
    "RUSIA1980_df = pd.DataFrame({\n",
    "    \"observed\": [188,211,285,442,294],\n",
    "    \"expected\": [284,284,284,284,284]\n",
    "}, index=[\"1968\",\"1972\",\"1976\",\"1980\",\"1988\"])\n",
    "RUSIA1980_df"
   ]
  },
  {
   "cell_type": "code",
   "execution_count": 42,
   "id": "0d574fed",
   "metadata": {},
   "outputs": [
    {
     "data": {
      "text/plain": [
       "Power_divergenceResult(statistic=139.4718309859155, pvalue=3.661986084493103e-29)"
      ]
     },
     "execution_count": 42,
     "metadata": {},
     "output_type": "execute_result"
    }
   ],
   "source": [
    "stats.chisquare(RUSIA1980_df['observed'], RUSIA1980_df['expected'])"
   ]
  },
  {
   "cell_type": "code",
   "execution_count": 43,
   "id": "a296dcc2",
   "metadata": {},
   "outputs": [
    {
     "data": {
      "text/html": [
       "<div>\n",
       "<style scoped>\n",
       "    .dataframe tbody tr th:only-of-type {\n",
       "        vertical-align: middle;\n",
       "    }\n",
       "\n",
       "    .dataframe tbody tr th {\n",
       "        vertical-align: top;\n",
       "    }\n",
       "\n",
       "    .dataframe thead th {\n",
       "        text-align: right;\n",
       "    }\n",
       "</style>\n",
       "<table border=\"1\" class=\"dataframe\">\n",
       "  <thead>\n",
       "    <tr style=\"text-align: right;\">\n",
       "      <th></th>\n",
       "      <th>observed</th>\n",
       "      <th>expected</th>\n",
       "    </tr>\n",
       "  </thead>\n",
       "  <tbody>\n",
       "    <tr>\n",
       "      <th>1972</th>\n",
       "      <td>155</td>\n",
       "      <td>212</td>\n",
       "    </tr>\n",
       "    <tr>\n",
       "      <th>1976</th>\n",
       "      <td>155</td>\n",
       "      <td>212</td>\n",
       "    </tr>\n",
       "    <tr>\n",
       "      <th>1984</th>\n",
       "      <td>333</td>\n",
       "      <td>212</td>\n",
       "    </tr>\n",
       "    <tr>\n",
       "      <th>1988</th>\n",
       "      <td>193</td>\n",
       "      <td>212</td>\n",
       "    </tr>\n",
       "    <tr>\n",
       "      <th>1992</th>\n",
       "      <td>224</td>\n",
       "      <td>212</td>\n",
       "    </tr>\n",
       "  </tbody>\n",
       "</table>\n",
       "</div>"
      ],
      "text/plain": [
       "      observed  expected\n",
       "1972       155       212\n",
       "1976       155       212\n",
       "1984       333       212\n",
       "1988       193       212\n",
       "1992       224       212"
      ]
     },
     "execution_count": 43,
     "metadata": {},
     "output_type": "execute_result"
    }
   ],
   "source": [
    "USA1984_df= pd.DataFrame({\n",
    "    \"observed\": [155,155,333,193,224],\n",
    "    \"expected\": [212,212,212,212,212]\n",
    "}, index=[\"1972\",\"1976\",\"1984\",\"1988\",\"1992\"])\n",
    "USA1984_df"
   ]
  },
  {
   "cell_type": "code",
   "execution_count": 44,
   "id": "f8f557ec",
   "metadata": {},
   "outputs": [
    {
     "data": {
      "text/plain": [
       "Power_divergenceResult(statistic=102.09433962264153, pvalue=3.522840275576157e-21)"
      ]
     },
     "execution_count": 44,
     "metadata": {},
     "output_type": "execute_result"
    }
   ],
   "source": [
    "stats.chisquare(USA1984_df['observed'], USA1984_df['expected'])"
   ]
  },
  {
   "cell_type": "code",
   "execution_count": 45,
   "id": "696066d8",
   "metadata": {},
   "outputs": [
    {
     "data": {
      "text/html": [
       "<div>\n",
       "<style scoped>\n",
       "    .dataframe tbody tr th:only-of-type {\n",
       "        vertical-align: middle;\n",
       "    }\n",
       "\n",
       "    .dataframe tbody tr th {\n",
       "        vertical-align: top;\n",
       "    }\n",
       "\n",
       "    .dataframe thead th {\n",
       "        text-align: right;\n",
       "    }\n",
       "</style>\n",
       "<table border=\"1\" class=\"dataframe\">\n",
       "  <thead>\n",
       "    <tr style=\"text-align: right;\">\n",
       "      <th></th>\n",
       "      <th>observed</th>\n",
       "      <th>expected</th>\n",
       "    </tr>\n",
       "  </thead>\n",
       "  <tbody>\n",
       "    <tr>\n",
       "      <th>1976</th>\n",
       "      <td>2</td>\n",
       "      <td>4.33</td>\n",
       "    </tr>\n",
       "    <tr>\n",
       "      <th>1980</th>\n",
       "      <td>5</td>\n",
       "      <td>4.33</td>\n",
       "    </tr>\n",
       "    <tr>\n",
       "      <th>1988</th>\n",
       "      <td>10</td>\n",
       "      <td>4.33</td>\n",
       "    </tr>\n",
       "    <tr>\n",
       "      <th>1992</th>\n",
       "      <td>0</td>\n",
       "      <td>4.33</td>\n",
       "    </tr>\n",
       "    <tr>\n",
       "      <th>1996</th>\n",
       "      <td>5</td>\n",
       "      <td>4.33</td>\n",
       "    </tr>\n",
       "    <tr>\n",
       "      <th>2000</th>\n",
       "      <td>4</td>\n",
       "      <td>4.33</td>\n",
       "    </tr>\n",
       "  </tbody>\n",
       "</table>\n",
       "</div>"
      ],
      "text/plain": [
       "      observed  expected\n",
       "1976         2      4.33\n",
       "1980         5      4.33\n",
       "1988        10      4.33\n",
       "1992         0      4.33\n",
       "1996         5      4.33\n",
       "2000         4      4.33"
      ]
     },
     "execution_count": 45,
     "metadata": {},
     "output_type": "execute_result"
    }
   ],
   "source": [
    "PRK1988_df= pd.DataFrame({\n",
    "    \"observed\": [2,5,10,0,5,4],\n",
    "    \"expected\": [4.33,4.33,4.33,4.33,4.33,4.33]\n",
    "}, index=[\"1976\",\"1980\",\"1988\",\"1992\",\"1996\",\"2000\"])\n",
    "PRK1988_df"
   ]
  },
  {
   "cell_type": "code",
   "execution_count": 46,
   "id": "9b311c4e",
   "metadata": {},
   "outputs": [
    {
     "data": {
      "text/plain": [
       "Power_divergenceResult(statistic=13.24096997690531, pvalue=0.021222282379152815)"
      ]
     },
     "execution_count": 46,
     "metadata": {},
     "output_type": "execute_result"
    }
   ],
   "source": [
    "stats.chisquare(PRK1988_df['observed'], PRK1988_df['expected'])"
   ]
  },
  {
   "cell_type": "code",
   "execution_count": 47,
   "id": "12223df9",
   "metadata": {},
   "outputs": [
    {
     "data": {
      "text/html": [
       "<div>\n",
       "<style scoped>\n",
       "    .dataframe tbody tr th:only-of-type {\n",
       "        vertical-align: middle;\n",
       "    }\n",
       "\n",
       "    .dataframe tbody tr th {\n",
       "        vertical-align: top;\n",
       "    }\n",
       "\n",
       "    .dataframe thead th {\n",
       "        text-align: right;\n",
       "    }\n",
       "</style>\n",
       "<table border=\"1\" class=\"dataframe\">\n",
       "  <thead>\n",
       "    <tr style=\"text-align: right;\">\n",
       "      <th></th>\n",
       "      <th>observed</th>\n",
       "      <th>expected</th>\n",
       "    </tr>\n",
       "  </thead>\n",
       "  <tbody>\n",
       "    <tr>\n",
       "      <th>1980</th>\n",
       "      <td>24</td>\n",
       "      <td>35.86</td>\n",
       "    </tr>\n",
       "    <tr>\n",
       "      <th>1984</th>\n",
       "      <td>19</td>\n",
       "      <td>35.86</td>\n",
       "    </tr>\n",
       "    <tr>\n",
       "      <th>1988</th>\n",
       "      <td>5</td>\n",
       "      <td>35.86</td>\n",
       "    </tr>\n",
       "    <tr>\n",
       "      <th>1992</th>\n",
       "      <td>66</td>\n",
       "      <td>35.86</td>\n",
       "    </tr>\n",
       "    <tr>\n",
       "      <th>1996</th>\n",
       "      <td>67</td>\n",
       "      <td>35.86</td>\n",
       "    </tr>\n",
       "    <tr>\n",
       "      <th>2000</th>\n",
       "      <td>43</td>\n",
       "      <td>35.86</td>\n",
       "    </tr>\n",
       "    <tr>\n",
       "      <th>2004</th>\n",
       "      <td>27</td>\n",
       "      <td>35.86</td>\n",
       "    </tr>\n",
       "  </tbody>\n",
       "</table>\n",
       "</div>"
      ],
      "text/plain": [
       "      observed  expected\n",
       "1980        24     35.86\n",
       "1984        19     35.86\n",
       "1988         5     35.86\n",
       "1992        66     35.86\n",
       "1996        67     35.86\n",
       "2000        43     35.86\n",
       "2004        27     35.86"
      ]
     },
     "execution_count": 47,
     "metadata": {},
     "output_type": "execute_result"
    }
   ],
   "source": [
    "ESP1992_df= pd.DataFrame({\n",
    "    \"observed\": [24,19,5,66,67,43,27],\n",
    "    \"expected\": [35.86,35.86,35.86,35.86,35.86,35.86,35.86]\n",
    "}, index=[\"1980\",\"1984\",\"1988\",\"1992\",\"1996\",\"2000\",\"2004\"])\n",
    "ESP1992_df"
   ]
  },
  {
   "cell_type": "code",
   "execution_count": 48,
   "id": "30ef0cbb",
   "metadata": {},
   "outputs": [
    {
     "data": {
      "text/plain": [
       "Power_divergenceResult(statistic=94.39088678192972, pvalue=3.702100964495227e-18)"
      ]
     },
     "execution_count": 48,
     "metadata": {},
     "output_type": "execute_result"
    }
   ],
   "source": [
    "stats.chisquare(ESP1992_df['observed'], ESP1992_df['expected'])"
   ]
  },
  {
   "cell_type": "code",
   "execution_count": 49,
   "id": "1c2d1c71",
   "metadata": {},
   "outputs": [
    {
     "data": {
      "text/html": [
       "<div>\n",
       "<style scoped>\n",
       "    .dataframe tbody tr th:only-of-type {\n",
       "        vertical-align: middle;\n",
       "    }\n",
       "\n",
       "    .dataframe tbody tr th {\n",
       "        vertical-align: top;\n",
       "    }\n",
       "\n",
       "    .dataframe thead th {\n",
       "        text-align: right;\n",
       "    }\n",
       "</style>\n",
       "<table border=\"1\" class=\"dataframe\">\n",
       "  <thead>\n",
       "    <tr style=\"text-align: right;\">\n",
       "      <th></th>\n",
       "      <th>observed</th>\n",
       "      <th>expected</th>\n",
       "    </tr>\n",
       "  </thead>\n",
       "  <tbody>\n",
       "    <tr>\n",
       "      <th>1988</th>\n",
       "      <td>193</td>\n",
       "      <td>250.66</td>\n",
       "    </tr>\n",
       "    <tr>\n",
       "      <th>1992</th>\n",
       "      <td>224</td>\n",
       "      <td>250.66</td>\n",
       "    </tr>\n",
       "    <tr>\n",
       "      <th>1996</th>\n",
       "      <td>260</td>\n",
       "      <td>250.66</td>\n",
       "    </tr>\n",
       "    <tr>\n",
       "      <th>2000</th>\n",
       "      <td>248</td>\n",
       "      <td>250.66</td>\n",
       "    </tr>\n",
       "    <tr>\n",
       "      <th>2004</th>\n",
       "      <td>264</td>\n",
       "      <td>250.66</td>\n",
       "    </tr>\n",
       "    <tr>\n",
       "      <th>2008</th>\n",
       "      <td>315</td>\n",
       "      <td>250.66</td>\n",
       "    </tr>\n",
       "  </tbody>\n",
       "</table>\n",
       "</div>"
      ],
      "text/plain": [
       "      observed  expected\n",
       "1988       193    250.66\n",
       "1992       224    250.66\n",
       "1996       260    250.66\n",
       "2000       248    250.66\n",
       "2004       264    250.66\n",
       "2008       315    250.66"
      ]
     },
     "execution_count": 49,
     "metadata": {},
     "output_type": "execute_result"
    }
   ],
   "source": [
    "USA1996_df= pd.DataFrame({\n",
    "    \"observed\": [193,224,260,248,264,315],\n",
    "    \"expected\": [250.66,250.66,250.66,250.66,250.66,250.66]\n",
    "}, index=[\"1988\",\"1992\",\"1996\",\"2000\",\"2004\",\"2008\"])\n",
    "USA1996_df"
   ]
  },
  {
   "cell_type": "code",
   "execution_count": 50,
   "id": "27466d11",
   "metadata": {},
   "outputs": [
    {
     "data": {
      "text/plain": [
       "Power_divergenceResult(statistic=33.70036543525094, pvalue=2.731420205885907e-06)"
      ]
     },
     "execution_count": 50,
     "metadata": {},
     "output_type": "execute_result"
    }
   ],
   "source": [
    "stats.chisquare(USA1996_df['observed'], USA1996_df['expected'])"
   ]
  },
  {
   "cell_type": "code",
   "execution_count": 60,
   "id": "ae528956",
   "metadata": {},
   "outputs": [
    {
     "data": {
      "text/html": [
       "<div>\n",
       "<style scoped>\n",
       "    .dataframe tbody tr th:only-of-type {\n",
       "        vertical-align: middle;\n",
       "    }\n",
       "\n",
       "    .dataframe tbody tr th {\n",
       "        vertical-align: top;\n",
       "    }\n",
       "\n",
       "    .dataframe thead th {\n",
       "        text-align: right;\n",
       "    }\n",
       "</style>\n",
       "<table border=\"1\" class=\"dataframe\">\n",
       "  <thead>\n",
       "    <tr style=\"text-align: right;\">\n",
       "      <th></th>\n",
       "      <th>observed</th>\n",
       "      <th>expected</th>\n",
       "    </tr>\n",
       "  </thead>\n",
       "  <tbody>\n",
       "    <tr>\n",
       "      <th>1988</th>\n",
       "      <td>34</td>\n",
       "      <td>118</td>\n",
       "    </tr>\n",
       "    <tr>\n",
       "      <th>1992</th>\n",
       "      <td>57</td>\n",
       "      <td>118</td>\n",
       "    </tr>\n",
       "    <tr>\n",
       "      <th>1996</th>\n",
       "      <td>132</td>\n",
       "      <td>118</td>\n",
       "    </tr>\n",
       "    <tr>\n",
       "      <th>2000</th>\n",
       "      <td>183</td>\n",
       "      <td>118</td>\n",
       "    </tr>\n",
       "    <tr>\n",
       "      <th>2004</th>\n",
       "      <td>157</td>\n",
       "      <td>118</td>\n",
       "    </tr>\n",
       "    <tr>\n",
       "      <th>2008</th>\n",
       "      <td>149</td>\n",
       "      <td>118</td>\n",
       "    </tr>\n",
       "    <tr>\n",
       "      <th>2012</th>\n",
       "      <td>114</td>\n",
       "      <td>118</td>\n",
       "    </tr>\n",
       "  </tbody>\n",
       "</table>\n",
       "</div>"
      ],
      "text/plain": [
       "      observed  expected\n",
       "1988        34       118\n",
       "1992        57       118\n",
       "1996       132       118\n",
       "2000       183       118\n",
       "2004       157       118\n",
       "2008       149       118\n",
       "2012       114       118"
      ]
     },
     "execution_count": 60,
     "metadata": {},
     "output_type": "execute_result"
    }
   ],
   "source": [
    "AUS2000_df= pd.DataFrame({\n",
    "    \"observed\": [34,57,132,183,157,149,114],\n",
    "    \"expected\": [118,118,118,118,118,118,118]\n",
    "}, index=[\"1988\",\"1992\",\"1996\",\"2000\",\"2004\",\"2008\",\"2012\"])\n",
    "AUS2000_df"
   ]
  },
  {
   "cell_type": "code",
   "execution_count": 61,
   "id": "e3ac79fa",
   "metadata": {},
   "outputs": [
    {
     "data": {
      "text/plain": [
       "Power_divergenceResult(statistic=149.96610169491527, pvalue=7.865991195874309e-30)"
      ]
     },
     "execution_count": 61,
     "metadata": {},
     "output_type": "execute_result"
    }
   ],
   "source": [
    "stats.chisquare(AUS2000_df['observed'], AUS2000_df['expected'])"
   ]
  },
  {
   "cell_type": "code",
   "execution_count": 62,
   "id": "f707995a",
   "metadata": {},
   "outputs": [
    {
     "data": {
      "text/html": [
       "<div>\n",
       "<style scoped>\n",
       "    .dataframe tbody tr th:only-of-type {\n",
       "        vertical-align: middle;\n",
       "    }\n",
       "\n",
       "    .dataframe tbody tr th {\n",
       "        vertical-align: top;\n",
       "    }\n",
       "\n",
       "    .dataframe thead th {\n",
       "        text-align: right;\n",
       "    }\n",
       "</style>\n",
       "<table border=\"1\" class=\"dataframe\">\n",
       "  <thead>\n",
       "    <tr style=\"text-align: right;\">\n",
       "      <th></th>\n",
       "      <th>observed</th>\n",
       "      <th>expected</th>\n",
       "    </tr>\n",
       "  </thead>\n",
       "  <tbody>\n",
       "    <tr>\n",
       "      <th>1992</th>\n",
       "      <td>2</td>\n",
       "      <td>11.5</td>\n",
       "    </tr>\n",
       "    <tr>\n",
       "      <th>1996</th>\n",
       "      <td>8</td>\n",
       "      <td>11.5</td>\n",
       "    </tr>\n",
       "    <tr>\n",
       "      <th>2000</th>\n",
       "      <td>18</td>\n",
       "      <td>11.5</td>\n",
       "    </tr>\n",
       "    <tr>\n",
       "      <th>2004</th>\n",
       "      <td>31</td>\n",
       "      <td>11.5</td>\n",
       "    </tr>\n",
       "    <tr>\n",
       "      <th>2008</th>\n",
       "      <td>7</td>\n",
       "      <td>11.5</td>\n",
       "    </tr>\n",
       "    <tr>\n",
       "      <th>2012</th>\n",
       "      <td>3</td>\n",
       "      <td>11.5</td>\n",
       "    </tr>\n",
       "  </tbody>\n",
       "</table>\n",
       "</div>"
      ],
      "text/plain": [
       "      observed  expected\n",
       "1992         2      11.5\n",
       "1996         8      11.5\n",
       "2000        18      11.5\n",
       "2004        31      11.5\n",
       "2008         7      11.5\n",
       "2012         3      11.5"
      ]
     },
     "execution_count": 62,
     "metadata": {},
     "output_type": "execute_result"
    }
   ],
   "source": [
    "GRE2004_df= pd.DataFrame({\n",
    "    \"observed\": [2,8,18,31,7,3],\n",
    "    \"expected\": [11.5,11.5,11.5,11.5,11.5,11.5]\n",
    "}, index=[\"1992\",\"1996\",\"2000\",\"2004\",\"2008\",\"2012\"])\n",
    "GRE2004_df"
   ]
  },
  {
   "cell_type": "code",
   "execution_count": null,
   "id": "e8f8e3d2",
   "metadata": {},
   "outputs": [],
   "source": [
    "stats.chisquare(GRE2004_df['observed'], GRE2004_df['expected'])"
   ]
  },
  {
   "cell_type": "code",
   "execution_count": 64,
   "id": "6997b155",
   "metadata": {},
   "outputs": [
    {
     "data": {
      "text/html": [
       "<div>\n",
       "<style scoped>\n",
       "    .dataframe tbody tr th:only-of-type {\n",
       "        vertical-align: middle;\n",
       "    }\n",
       "\n",
       "    .dataframe tbody tr th {\n",
       "        vertical-align: top;\n",
       "    }\n",
       "\n",
       "    .dataframe thead th {\n",
       "        text-align: right;\n",
       "    }\n",
       "</style>\n",
       "<table border=\"1\" class=\"dataframe\">\n",
       "  <thead>\n",
       "    <tr style=\"text-align: right;\">\n",
       "      <th></th>\n",
       "      <th>observed</th>\n",
       "      <th>expected</th>\n",
       "    </tr>\n",
       "  </thead>\n",
       "  <tbody>\n",
       "    <tr>\n",
       "      <th>1996</th>\n",
       "      <td>110</td>\n",
       "      <td>119</td>\n",
       "    </tr>\n",
       "    <tr>\n",
       "      <th>2000</th>\n",
       "      <td>79</td>\n",
       "      <td>119</td>\n",
       "    </tr>\n",
       "    <tr>\n",
       "      <th>2004</th>\n",
       "      <td>94</td>\n",
       "      <td>119</td>\n",
       "    </tr>\n",
       "    <tr>\n",
       "      <th>2008</th>\n",
       "      <td>184</td>\n",
       "      <td>119</td>\n",
       "    </tr>\n",
       "    <tr>\n",
       "      <th>2012</th>\n",
       "      <td>128</td>\n",
       "      <td>119</td>\n",
       "    </tr>\n",
       "  </tbody>\n",
       "</table>\n",
       "</div>"
      ],
      "text/plain": [
       "      observed  expected\n",
       "1996       110       119\n",
       "2000        79       119\n",
       "2004        94       119\n",
       "2008       184       119\n",
       "2012       128       119"
      ]
     },
     "execution_count": 64,
     "metadata": {},
     "output_type": "execute_result"
    }
   ],
   "source": [
    "CHN2008_df= pd.DataFrame({\n",
    "    \"observed\": [110,79,94,184,128],\n",
    "    \"expected\": [119,119,119,119,119]\n",
    "}, index=[\"1996\",\"2000\",\"2004\",\"2008\",\"2012\"])\n",
    "CHN2008_df"
   ]
  },
  {
   "cell_type": "code",
   "execution_count": 66,
   "id": "abb854e0",
   "metadata": {},
   "outputs": [
    {
     "data": {
      "text/plain": [
       "Power_divergenceResult(statistic=55.56302521008403, pvalue=2.4760305061295494e-11)"
      ]
     },
     "execution_count": 66,
     "metadata": {},
     "output_type": "execute_result"
    }
   ],
   "source": [
    "stats.chisquare(CHN2008_df['observed'], CHN2008_df['expected'])"
   ]
  },
  {
   "cell_type": "code",
   "execution_count": null,
   "id": "14601576",
   "metadata": {},
   "outputs": [],
   "source": [
    "GBR2012_df= pd.DataFrame({\n",
    "    \"observed\": [55,57,77,126],\n",
    "    \"expected\": [78.75,78.75,78.75,78.75]\n",
    "}, index=[\"2000\",\"2004\",\"2008\",\"2012\"])\n",
    "GBR2012_df"
   ]
  },
  {
   "cell_type": "code",
   "execution_count": 57,
   "id": "a5b322ad",
   "metadata": {},
   "outputs": [
    {
     "data": {
      "text/plain": [
       "Power_divergenceResult(statistic=55.56302521008403, pvalue=2.4760305061295494e-11)"
      ]
     },
     "execution_count": 57,
     "metadata": {},
     "output_type": "execute_result"
    }
   ],
   "source": [
    "stats.chisquare(CHN2008_df['observed'], CHN2008_df['expected'])"
   ]
  },
  {
   "cell_type": "code",
   "execution_count": 71,
   "id": "a4d77c37",
   "metadata": {
    "scrolled": true
   },
   "outputs": [
    {
     "data": {
      "text/html": [
       "<div>\n",
       "<style scoped>\n",
       "    .dataframe tbody tr th:only-of-type {\n",
       "        vertical-align: middle;\n",
       "    }\n",
       "\n",
       "    .dataframe tbody tr th {\n",
       "        vertical-align: top;\n",
       "    }\n",
       "\n",
       "    .dataframe thead th {\n",
       "        text-align: right;\n",
       "    }\n",
       "</style>\n",
       "<table border=\"1\" class=\"dataframe\">\n",
       "  <thead>\n",
       "    <tr style=\"text-align: right;\">\n",
       "      <th></th>\n",
       "      <th>index</th>\n",
       "      <th>Host Year</th>\n",
       "      <th>Country</th>\n",
       "      <th>Year</th>\n",
       "      <th>Medal</th>\n",
       "    </tr>\n",
       "  </thead>\n",
       "  <tbody>\n",
       "    <tr>\n",
       "      <th>0</th>\n",
       "      <td>175</td>\n",
       "      <td>2008</td>\n",
       "      <td>CHN</td>\n",
       "      <td>1996</td>\n",
       "      <td>110.0</td>\n",
       "    </tr>\n",
       "    <tr>\n",
       "      <th>1</th>\n",
       "      <td>176</td>\n",
       "      <td>2008</td>\n",
       "      <td>CHN</td>\n",
       "      <td>2000</td>\n",
       "      <td>79.0</td>\n",
       "    </tr>\n",
       "    <tr>\n",
       "      <th>2</th>\n",
       "      <td>177</td>\n",
       "      <td>2008</td>\n",
       "      <td>CHN</td>\n",
       "      <td>2004</td>\n",
       "      <td>94.0</td>\n",
       "    </tr>\n",
       "    <tr>\n",
       "      <th>3</th>\n",
       "      <td>178</td>\n",
       "      <td>2008</td>\n",
       "      <td>CHN</td>\n",
       "      <td>2008</td>\n",
       "      <td>184.0</td>\n",
       "    </tr>\n",
       "    <tr>\n",
       "      <th>4</th>\n",
       "      <td>179</td>\n",
       "      <td>2008</td>\n",
       "      <td>CHN</td>\n",
       "      <td>2012</td>\n",
       "      <td>128.0</td>\n",
       "    </tr>\n",
       "  </tbody>\n",
       "</table>\n",
       "</div>"
      ],
      "text/plain": [
       "   index  Host Year Country  Year  Medal\n",
       "0    175       2008     CHN  1996  110.0\n",
       "1    176       2008     CHN  2000   79.0\n",
       "2    177       2008     CHN  2004   94.0\n",
       "3    178       2008     CHN  2008  184.0\n",
       "4    179       2008     CHN  2012  128.0"
      ]
     },
     "execution_count": 71,
     "metadata": {},
     "output_type": "execute_result"
    }
   ],
   "source": [
    "host_medals.loc[(host_medals[\"Country\"]==\"CHN\")].reset_index().tail(30)"
   ]
  },
  {
   "cell_type": "code",
   "execution_count": null,
   "id": "6594650b",
   "metadata": {
    "scrolled": false
   },
   "outputs": [],
   "source": [
    "summary_summer"
   ]
  },
  {
   "cell_type": "code",
   "execution_count": null,
   "id": "df353f7c",
   "metadata": {},
   "outputs": [],
   "source": []
  },
  {
   "cell_type": "code",
   "execution_count": null,
   "id": "73b94e71",
   "metadata": {},
   "outputs": [],
   "source": []
  },
  {
   "cell_type": "code",
   "execution_count": null,
   "id": "e9b027f2",
   "metadata": {},
   "outputs": [],
   "source": []
  }
 ],
 "metadata": {
  "kernelspec": {
   "display_name": "Python 3",
   "language": "python",
   "name": "python3"
  },
  "language_info": {
   "codemirror_mode": {
    "name": "ipython",
    "version": 3
   },
   "file_extension": ".py",
   "mimetype": "text/x-python",
   "name": "python",
   "nbconvert_exporter": "python",
   "pygments_lexer": "ipython3",
   "version": "3.8.8"
  }
 },
 "nbformat": 4,
 "nbformat_minor": 5
}
